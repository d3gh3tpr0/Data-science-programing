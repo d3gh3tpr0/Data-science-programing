{
 "cells": [
  {
   "cell_type": "markdown",
   "id": "46896a80",
   "metadata": {
    "id": "46896a80"
   },
   "source": [
    "# HW1: Các câu lệnh Linux, Python\n",
    "\n",
    "(Cập nhật lần cuối 16/11/2021)\n",
    "\n",
    "Họ tên: Phan Trung Hieu\n",
    "\n",
    "MSSV: 19127404"
   ]
  },
  {
   "cell_type": "markdown",
   "id": "98060f23",
   "metadata": {
    "id": "98060f23"
   },
   "source": [
    "---"
   ]
  },
  {
   "cell_type": "markdown",
   "id": "155aa0df",
   "metadata": {
    "id": "155aa0df"
   },
   "source": [
    "## Cách làm bài và nộp bài"
   ]
  },
  {
   "cell_type": "markdown",
   "id": "f181e2a2",
   "metadata": {
    "id": "f181e2a2"
   },
   "source": [
    "&#9889; Bạn lưu ý là mình sẽ dùng chương trình hỗ trợ chấm bài nên bạn cần phải tuân thủ chính xác qui định mà mình đặt ra, nếu không rõ thì hỏi, chứ không nên tự tiện làm theo ý của cá nhân.\n",
    "\n",
    "**Cách làm bài**\n",
    "\n",
    "Bạn sẽ làm trực tiếp trên file notebook này. Đầu tiên, bạn điền họ tên và MSSV vào phần đầu file ở bên trên. Trong file, bạn làm bài ở những chỗ có ghi là:\n",
    "```python\n",
    "# YOUR CODE HERE\n",
    "raise NotImplementedError()\n",
    "```\n",
    "hoặc đối với những phần code không bắt buộc thì là:\n",
    "```python\n",
    "# YOUR CODE HERE (OPTION)\n",
    "```\n",
    "hoặc đối với markdown cell thì là:\n",
    "```markdown\n",
    "YOUR ANSWER HERE\n",
    "```\n",
    "Tất nhiên, khi làm thì bạn xóa dòng `raise NotImplementedError()` đi.\n",
    "Đối những phần yêu cầu code thì thường ở ngay phía dưới sẽ có một (hoặc một số) cell chứa các bộ test để giúp bạn biết đã code đúng hay chưa; nếu chạy cell này không có lỗi gì thì có nghĩa là qua được các bộ test. Trong một số trường hợp, các bộ test có thể sẽ không đầy đủ; nghĩa là, nếu không qua được test thì là code sai, nhưng nếu qua được test thì chưa chắc đã đúng hoàn toàn.\n",
    "\n",
    "Trong khi làm bài, bạn có thể cho in ra màn hình, tạo thêm các cell để test. Nhưng khi nộp bài thì bạn xóa các cell mà bạn tự tạo, xóa hoặc comment các câu lệnh in ra màn hình. Bạn lưu ý <font color=red>không được tự tiện xóa các cell hay sửa code của Thầy</font> (trừ những chỗ được phép sửa như đã nói ở trên).\n",
    "\n",
    "Bạn cố gắng giữ cho code rõ ràng, ngăn nắp: đặt tên biến gợi ý, comment ở những chỗ cần comment, giữ cho một dòng code không quá dài (vì nếu không thì người đọc sẽ phải mất công scroll, bạn có thể dùng qui tắc: một dòng code chỉ nên có tối đa là 79 ký tự). \n",
    "\n",
    "Trong khi làm bài, thường xuyên `Ctrl + S` để lưu lại bài làm của bạn, tránh mất mát thông tin.\n",
    "\n",
    "\n",
    "*Nên nhớ mục tiêu chính ở đây là <font color=green>học, học một cách chân thật</font>. Bạn có thể thảo luận ý tưởng với bạn khác, nhưng <font color=green>code và bài làm phải là của bạn, dựa trên sự hiểu thật sự của bạn</font>. <font color=red>Nếu vi phạm thì sẽ bị 0 điểm cho toàn bộ môn học.</font>*\n",
    "\n",
    "**Cách nộp bài**\n",
    "\n",
    "Khi chấm bài, đầu tiên mình sẽ chọn `Kernel` - `Restart & Run All` để restart và chạy tất cả các cell trong notebook của bạn; do đó, trước khi nộp bài, bạn nên chạy thử `Kernel` - `Restart & Run All` để đảm bảo mọi chuyện diễn ra đúng như mong đợi.\n",
    "\n",
    "Sau đó, bạn tạo thư mục nộp bài theo cấu trúc sau:\n",
    "- Thư mục `MSSV` (vd, nếu bạn có MSSV là 1234567 thì bạn đặt tên thư mục là `1234567`)\n",
    "    - File `HW1.ipynb` (không cần nộp các file khác)\n",
    "\n",
    "Cuối cùng, bạn nén thư mục `MSSV` này lại và nộp ở link trên moodle. <font color=red>Bạn lưu ý tuân thủ chính xác qui định nộp bài.</font>"
   ]
  },
  {
   "cell_type": "markdown",
   "id": "c09ce040",
   "metadata": {
    "id": "c09ce040"
   },
   "source": [
    "---"
   ]
  },
  {
   "cell_type": "markdown",
   "id": "f5861b79",
   "metadata": {
    "id": "f5861b79"
   },
   "source": [
    "## Môi trường code"
   ]
  },
  {
   "cell_type": "markdown",
   "id": "a55dd304",
   "metadata": {
    "id": "a55dd304"
   },
   "source": [
    "Ta thống nhất trong môn này:\n",
    "- Code trên môi trường Linux (bạn đã setup ở HW0)\n",
    "- Dùng Jupyter Notebook hoặc Jupyter Lab để code file .ipynb. Lưu ý: bạn <font color=red>không dùng Google Colab</font>, vì Google Colab có thể xóa một số thông tin meta mà chương trình hỗ trợ chấm bài của mình đã tạo trong file bài tập\n",
    "- Dùng phiên bản các package như trong file \"min_ds-env.yml\" (bạn xem trong HW0 cách dùng Conda để tạo môi trường code từ file .yml và cách kích hoạt môi trường này sau khi đã tạo)"
   ]
  },
  {
   "cell_type": "code",
   "execution_count": 8,
   "id": "f4d0ddac",
   "metadata": {
    "id": "f4d0ddac"
   },
   "outputs": [
    {
     "data": {
      "text/plain": [
       "'/home/kunic/miniconda3/envs/min_ds-env/bin/python'"
      ]
     },
     "execution_count": 8,
     "metadata": {},
     "output_type": "execute_result"
    }
   ],
   "source": [
    "import sys\n",
    "sys.executable"
   ]
  },
  {
   "cell_type": "markdown",
   "id": "0aed058f",
   "metadata": {
    "id": "0aed058f"
   },
   "source": [
    "Nếu không có vấn đề gì thì file chạy python sẽ là file của môi trường code \"min_ds-env\".\n",
    "\n",
    "Trong bài này, ngoài Git & Jupyter Notebook/Lab thì bạn chỉ dùng Python, không dùng các thư viện khác như Numpy, Pandas, ... Trong Python, khi đọc/ghi file csv thì bạn cũng không được dùng các thư viện hỗ trợ như thư viện `csv`."
   ]
  },
  {
   "cell_type": "markdown",
   "id": "8d61e06a",
   "metadata": {
    "id": "8d61e06a"
   },
   "source": [
    "---"
   ]
  },
  {
   "cell_type": "markdown",
   "id": "f1372718",
   "metadata": {
    "id": "f1372718"
   },
   "source": [
    "## Import các thư viện cần thiết"
   ]
  },
  {
   "cell_type": "code",
   "execution_count": 9,
   "id": "aa2cfe75",
   "metadata": {
    "id": "aa2cfe75"
   },
   "outputs": [],
   "source": [
    "import datetime\n",
    "# YOUR CODE HERE (OPTION)"
   ]
  },
  {
   "cell_type": "markdown",
   "id": "cbb29f77",
   "metadata": {
    "id": "cbb29f77"
   },
   "source": [
    "---"
   ]
  },
  {
   "cell_type": "markdown",
   "id": "6098d27a",
   "metadata": {
    "id": "6098d27a"
   },
   "source": [
    "## Thu thập dữ liệu (3.5đ)"
   ]
  },
  {
   "cell_type": "markdown",
   "id": "d227fd9b",
   "metadata": {
    "id": "d227fd9b"
   },
   "source": [
    "Trong bài tập này, bạn sẽ lấy dữ liệu log của [thùng chứa nbdime](https://github.com/KienTrann/nbdime). Nbdime là công cụ giúp Git có thể diff và merge file Notebook một cách phù hợp (thay vì chỉ coi như là một file text thông thường). Link mình cung cấp không phải là link đến thùng chứa gốc của nbdime mà là thùng chứa mình \"fork\" (đại khái là tạo ra một bản copy) từ thùng chứa gốc. Lý do: mình muốn cố định lại dữ liệu log để có thể cung cấp các bộ test để bạn phần nào biết là đã code đúng hay chưa (còn nếu dùng thùng chứa gốc thì dữ liệu log có thể sẽ thay đổi trong vài ngày tới, các bộ test lúc đó có thể sẽ không còn đúng nữa).\n",
    "\n",
    "Để có thể lấy dữ liệu log thì việc đầu tiên bạn cần làm ở cell bên dưới là: \n",
    "\n",
    "- Dùng câu lệnh Git để clone thùng chứa về; bạn clone vào một thư mục cùng cấp với file notebook này. <font color=gray>Gợi ý: trong Jupyter Notebook, ở code cell, bạn có thể thực hiện một câu lệnh Linux (bao gồm câu lệnh Git) bằng cách thêm dấu ! ở đầu.</font>\n",
    "- Sau đó, để xem thử thư mục vừa clone có nặng không, bạn tính dung lượng tổng cộng của thư mục này và lưu vào biến `repo_size` (`repo_size` là một con số, đơn vị là MB); ta thống nhất: (i) dùng cờ `--apparent-size` khi dùng câu lệnh `du`, (ii) code chỉ cần chạy đúng với thùng chứa cụ thể này. <font color=gray>Gợi ý: trong Jupyter Notebook, bạn có thể gán kết quả của câu lệnh Linux vào biến Python.</font> \\\n",
    "@ Các bạn dùng Mac: trong Mac thì mình nghe nói là câu lệnh `du` không có cờ `--apparent-size` (do câu lệnh `du` của Mac là bản BSD, còn của Linux là bản GNU); bạn có thể xem thử cách cài câu lệnh `du` bản GNU ở [video này](https://youtu.be/VGgTmxXp7xQ?t=894) (trong video là nói về câu lệnh `grep` nhưng mình nghĩ cũng sẽ tương tự với câu lệnh `du`)."
   ]
  },
  {
   "cell_type": "code",
   "execution_count": 10,
   "id": "8bd6ff0b",
   "metadata": {
    "deletable": false,
    "id": "8bd6ff0b",
    "nbgrader": {
     "cell_type": "code",
     "checksum": "f9d6621381f8d838d952e28da52f9eea",
     "grade": true,
     "grade_id": "cell-5984c6f1d3bb0311",
     "locked": false,
     "points": 0.5,
     "schema_version": 3,
     "solution": true,
     "task": false
    }
   },
   "outputs": [],
   "source": [
    "# YOUR CODE HERE\n",
    "#raise NotImplementedError()\n",
    "\n",
    "repo_size = !cd clone/nbdime && du --apparent-size -m\n",
    "\n",
    "\n",
    "repo_size = list(repo_size)\n",
    "repo_size = float(repo_size[len(repo_size)-1].replace('\\t.', ''))\n",
    "\n",
    "\n",
    "\n",
    "\n",
    "\n",
    "# Thầy HDTH với mình có test thử thì có máy ra 9.7, có máy ra 9.8\n",
    "# (có thể là do phiên bản của câu lệnh du?)"
   ]
  },
  {
   "cell_type": "markdown",
   "id": "b7c4b9c4",
   "metadata": {
    "id": "b7c4b9c4"
   },
   "source": [
    "Sau khi đã clone thùng chứa về, việc kế tiếp của bạn là dùng các câu lệnh Linux (trong đó có các câu lệnh Git) và Python để lấy dữ liệu log rồi lưu xuống file \"log.tsv\" (định dạng tsv tương tự như csv nhưng các giá trị được cách nhau bởi tab). Để dễ hình dung, bạn có thể dùng Jupyter Lab để mở xem file kết quả đúng \"correct_log.tsv\" mà mình cung cấp. Như bạn có thể thấy, mỗi dòng ứng với một commit (không tính dòng đầu - dòng chứa các tên cột) và gồm các thông tin:\n",
    "- \"Id\" là id (hash) dạng viết gọn của commit\n",
    "- \"ParentIds\" là id dạng viết gọn của (các) commit cha\n",
    "- \"AuthorName\" là tên của tác giả\n",
    "- \"AuthorEmail\" là email của tác giả\n",
    "- \"AuthorDate\" là ngày tác giả thực hiện commit, ngày được format theo chuẩn RFC2822 (xem phần gợi ý ở bên dưới để biết cách lấy ngày theo format này) \n",
    "- \"Subject\" là tựa đề của message (message tương tự như email, ngoài phần \"subject\" thì có thể có thêm phần \"body\"; ở đây ta chỉ lấy phần \"subject\")\n",
    "- \"ChangedFiles\": các file bị thay đổi, nếu có nhiều file thì các file được phân tách bởi dấu phẩy\n",
    "\n",
    "Tại sao mình dùng định dạng tsv thay vì csv? Vì dấu phẩy nhiều khả năng là sẽ có trong phần \"subject\" của message. Tab ít khả năng sẽ có hơn, nhưng nếu có thì bạn hãy thay bằng bốn khoảng trắng.\n",
    "\n",
    "<font color=gray>Gợi ý cho phần này:</font> \n",
    "- <font color=gray>Bạn có thể xem thêm về câu lệnh `git log` [ở đây](https://git-scm.com/book/en/v2/Git-Basics-Viewing-the-Commit-History)</font>\n",
    "- <font color=gray>Khi ở Notebook, bạn thử `cd` đến thư mục clone rồi `pwd` xem? Kết quả như vậy là vì khi thực hiện một dòng lệnh Linux ở Notebook thì Notebook sẽ tạo ra một terminal tạm thời để thực thi dòng lệnh đó trong phút chốc. Như vậy, câu lệnh `cd` vẫn là có `cd` đến thư mục clone nhưng là ở terminal tạm thời; khi câu lệnh `cd` chạy xong thì terminal tạm thời này sẽ được đóng và ta vẫn ở thư mục mà hiện chứa file Notebook. Để có thể `cd` rồi `pwd` thì một cách là ghi 2 câu lệnh này trên một dòng và cách nhau bởi `&&`; lúc này thì cả 2 câu lệnh sẽ được thực thi trên cùng một terminal</font>"
   ]
  },
  {
   "cell_type": "code",
   "execution_count": 11,
   "id": "dd188ac1",
   "metadata": {
    "deletable": false,
    "id": "dd188ac1",
    "nbgrader": {
     "cell_type": "code",
     "checksum": "55b0b31d2d3104224a68b2c60ac4fccf",
     "grade": false,
     "grade_id": "cell-7a31931ee1dd0b8b",
     "locked": false,
     "schema_version": 3,
     "solution": true,
     "task": false
    }
   },
   "outputs": [],
   "source": [
    "# YOUR CODE HER\n",
    "log = !cd clone/nbdime && git log --name-only --pretty=format:\"%gs\" \n",
    "data = list(log) \n",
    "changedFiles = []\n",
    "i = 0\n",
    "j = -1\n",
    "while (i<len(data)):\n",
    "    if (i==0 and data[i] == ''):\n",
    "        count = 0\n",
    "        while(i<len(data) and data[count]==''):\n",
    "            i+=1\n",
    "            count+=1\n",
    "        for ite in range(count-1):\n",
    "            j+=1\n",
    "            changedFiles.append('')\n",
    "            \n",
    "    else:\n",
    "        j+=1\n",
    "        changedFiles.append(data[i])\n",
    "        i+=1\n",
    "        while(i<len(data) and data[i]!=''):\n",
    "            changedFiles[j] = changedFiles[j] + ',' + data[i]\n",
    "            i+=1\n",
    "        count = 0\n",
    "        while(i<len(data) and data[i] == ''):\n",
    "            count+=1\n",
    "            i+=1\n",
    "        for ite in range(count-2):\n",
    "            j+=1\n",
    "            changedFiles.append('')\n",
    "for i in range(len(changedFiles)):\n",
    "    v = 0\n",
    "    while(v<len(changedFiles[i]) and changedFiles[i][v] == ','):\n",
    "        v+=1\n",
    "    changedFiles[i] = changedFiles[i][v::]\n",
    "log = !cd clone/nbdime && git log --date=rfc --pretty=format:\"%h%x09%p%x09%an%x09%ae%x09%ad%x09%s%x09\"\n",
    "data = list(log)\n",
    "data_log = []\n",
    "for ite in range(len(data)):\n",
    "    m = data[ite]  + changedFiles[ite] + '\\n'\n",
    "    data_log.append(m)\n",
    "f = open('log.tsv', 'a')\n",
    "f.write('Id\\tParentIds\\tAuthorName\\tAuthorEmail\\tAuthorDate\\tSubject\\tChangedFiles\\n')\n",
    "for ite in range(len(data_log)):\n",
    "    f.write(data_log[ite])\n",
    "f.close()\n",
    "\n",
    "\n",
    "\n"
   ]
  },
  {
   "cell_type": "code",
   "execution_count": 5,
   "id": "1c507d6f",
   "metadata": {
    "deletable": false,
    "editable": false,
    "id": "1c507d6f",
    "nbgrader": {
     "cell_type": "code",
     "checksum": "0423c7b3167b4b74060cf441d2dc344b",
     "grade": true,
     "grade_id": "cell-1671c3f106d5da7d",
     "locked": true,
     "points": 3,
     "schema_version": 3,
     "solution": false,
     "task": false
    }
   },
   "outputs": [
    {
     "ename": "AssertionError",
     "evalue": "",
     "output_type": "error",
     "traceback": [
      "\u001b[0;31m---------------------------------------------------------------------------\u001b[0m",
      "\u001b[0;31mAssertionError\u001b[0m                            Traceback (most recent call last)",
      "\u001b[0;32m/tmp/ipykernel_2419/2491164792.py\u001b[0m in \u001b[0;36m<module>\u001b[0;34m\u001b[0m\n\u001b[1;32m      6\u001b[0m \u001b[0mcorrect_log\u001b[0m \u001b[0;34m=\u001b[0m \u001b[0mfile\u001b[0m\u001b[0;34m.\u001b[0m\u001b[0mread\u001b[0m\u001b[0;34m(\u001b[0m\u001b[0;34m)\u001b[0m\u001b[0;34m\u001b[0m\u001b[0;34m\u001b[0m\u001b[0m\n\u001b[1;32m      7\u001b[0m \u001b[0mfile\u001b[0m\u001b[0;34m.\u001b[0m\u001b[0mclose\u001b[0m\u001b[0;34m(\u001b[0m\u001b[0;34m)\u001b[0m\u001b[0;34m\u001b[0m\u001b[0;34m\u001b[0m\u001b[0m\n\u001b[0;32m----> 8\u001b[0;31m \u001b[0;32massert\u001b[0m \u001b[0mlog\u001b[0m \u001b[0;34m==\u001b[0m \u001b[0mcorrect_log\u001b[0m\u001b[0;34m\u001b[0m\u001b[0;34m\u001b[0m\u001b[0m\n\u001b[0m",
      "\u001b[0;31mAssertionError\u001b[0m: "
     ]
    }
   ],
   "source": [
    "# TEST\n",
    "file = open('log.tsv', 'r')\n",
    "log = file.read()\n",
    "file.close()\n",
    "file = open('correct_log.tsv', 'r')\n",
    "correct_log = file.read()\n",
    "file.close()\n",
    "assert log == correct_log"
   ]
  },
  {
   "cell_type": "markdown",
   "id": "43a99fa4",
   "metadata": {
    "id": "43a99fa4"
   },
   "source": [
    "---"
   ]
  },
  {
   "cell_type": "markdown",
   "id": "804be566",
   "metadata": {
    "id": "804be566"
   },
   "source": [
    "## Khám phá dữ liệu"
   ]
  },
  {
   "cell_type": "markdown",
   "id": "d4673a3c",
   "metadata": {
    "id": "d4673a3c"
   },
   "source": [
    "### Dữ liệu có bao nhiêu dòng và bao nhiêu cột? (0.5đ)"
   ]
  },
  {
   "cell_type": "markdown",
   "id": "8cb31291",
   "metadata": {
    "id": "8cb31291"
   },
   "source": [
    "Đầu tiên, bạn sẽ đọc dữ liệu từ file \"log.tsv\" (nếu phần thu thập dữ liệu bạn làm chưa đúng thì bạn có thể đọc từ file \"correct_log.tsv\" mà mình đã cung cấp). Bạn lưu kết quả đọc được vào biến `cols`. Biến `cols` là một dictionary, trong đó mỗi phần tử ứng với một cột, key là chuỗi ứng với tên cột, value là list chứa các giá trị của cột (mỗi giá trị bạn cứ tạm để kiểu dữ liệu là chuỗi).\n",
    "\n",
    "Kế tiếp, từ biến `cols`, bạn sẽ tính số dòng và số cột, rồi lần lượt lưu vào hai biến là `num_rows` và `num_cols`."
   ]
  },
  {
   "cell_type": "code",
   "execution_count": 12,
   "id": "3e6f19fd",
   "metadata": {
    "deletable": false,
    "id": "3e6f19fd",
    "nbgrader": {
     "cell_type": "code",
     "checksum": "2129a14a7289ce808929d5a67e787a07",
     "grade": false,
     "grade_id": "cell-f2f6dbf283e0ccee",
     "locked": false,
     "schema_version": 3,
     "solution": true,
     "task": false
    }
   },
   "outputs": [],
   "source": [
    "# YOUR CODE HERE\n",
    "file = open('correct_log.tsv', 'r')\n",
    "#cols = {'Id':[], 'ParentIds':[], 'AuthorName':[], 'AuthorEmail':[], \n",
    "#        'AuthorDate':[], 'Subject':[], 'ChangedFiles':[]}\n",
    "#cols_name = ['Id', 'ParentIds', 'AuthorName', 'AuthorEmail', 'AuthorDate', 'Subject', 'ChangedFiles']\n",
    "cols = dict()\n",
    "cols_name = list()\n",
    "check = 0\n",
    "for line in file:\n",
    "    line = line.strip().split('\\t')\n",
    "    if check == 0:\n",
    "        cols_name = line\n",
    "        for i in range(len(cols_name)):\n",
    "            cols.update({cols_name[i]:[]})\n",
    "        check += 1\n",
    "        continue\n",
    "    for i in range(len(line)):\n",
    "        cols[cols_name[i]].append(line[i])\n",
    "    for i in range (len(line), len(cols_name)):\n",
    "        cols[cols_name[i]].append('')\n",
    "file.close()\n",
    "\n",
    "num_cols = len(cols.keys())\n",
    "num_rows = len(cols[list(cols.keys())[0]])\n",
    "\n",
    "\n",
    "\n",
    "\n",
    "\n",
    "\n",
    "    "
   ]
  },
  {
   "cell_type": "code",
   "execution_count": null,
   "id": "f7e3e0ee",
   "metadata": {
    "deletable": false,
    "editable": false,
    "id": "f7e3e0ee",
    "nbgrader": {
     "cell_type": "code",
     "checksum": "b8aeec5e8bb7d4402d3ade6077db687d",
     "grade": true,
     "grade_id": "cell-cae77558e0985b8d",
     "locked": true,
     "points": 0.5,
     "schema_version": 3,
     "solution": false,
     "task": false
    }
   },
   "outputs": [],
   "source": [
    "# TEST\n",
    "assert num_rows == 1928\n",
    "assert num_cols == 7\n",
    "assert set(cols.keys()) == set(['Id', 'ParentIds', 'AuthorName', \n",
    "                                'AuthorEmail', 'AuthorDate', 'Subject', \n",
    "                                'ChangedFiles'])\n",
    "id_col_len = len(cols['Id'])\n",
    "for col_name in cols:\n",
    "    assert len(cols[col_name]) == id_col_len"
   ]
  },
  {
   "cell_type": "markdown",
   "id": "3d440322",
   "metadata": {
    "id": "3d440322"
   },
   "source": [
    "### Mỗi dòng có ý nghĩa gì? Có vấn đề các dòng có ý nghĩa khác nhau không?"
   ]
  },
  {
   "cell_type": "markdown",
   "id": "2bf7cc38",
   "metadata": {
    "id": "2bf7cc38"
   },
   "source": [
    "Mỗi dòng ứng với một commit. Có vẻ không có dòng nào \"lạc loài\" (nghĩa là không có vấn đề các dòng có ý nghĩa khác nhau)."
   ]
  },
  {
   "cell_type": "markdown",
   "id": "dfd3b9ac",
   "metadata": {
    "id": "dfd3b9ac"
   },
   "source": [
    "### Dữ liệu có các dòng bị lặp không? (0.25đ)"
   ]
  },
  {
   "cell_type": "markdown",
   "id": "ea9d9c8f",
   "metadata": {
    "id": "ea9d9c8f"
   },
   "source": [
    "Có lẽ là không có. Để chắc ăn thì một cách là ta có thể check cột \"Id\"; nếu cột \"Id\" không có giá trị bị lặp thì có thể kết luận là không có dòng bị lặp. Bạn sẽ làm vụ này và lưu kết quả check vào biến `duplicated_id`; biến này bằng True nếu cột \"Id\" có giá trị lặp và bằng False nếu ngược lại."
   ]
  },
  {
   "cell_type": "code",
   "execution_count": 13,
   "id": "c1625ffc",
   "metadata": {
    "deletable": false,
    "id": "c1625ffc",
    "nbgrader": {
     "cell_type": "code",
     "checksum": "1a76647c83c980ad5211ae3face16788",
     "grade": false,
     "grade_id": "cell-31e053e964e6c9eb",
     "locked": false,
     "schema_version": 3,
     "solution": true,
     "task": false
    }
   },
   "outputs": [],
   "source": [
    "# YOUR CODE HERE\n",
    "len_set_cols = len(set(cols[list(cols.keys())[0]]))\n",
    "len_set_cols\n",
    "if len_set_cols == num_rows:\n",
    "    duplicated_id = False\n",
    "else:\n",
    "    duplicated_id = True"
   ]
  },
  {
   "cell_type": "code",
   "execution_count": null,
   "id": "e0516bc2",
   "metadata": {
    "deletable": false,
    "editable": false,
    "id": "e0516bc2",
    "nbgrader": {
     "cell_type": "code",
     "checksum": "42bf24e55c7bd536e139c6244328b218",
     "grade": true,
     "grade_id": "cell-ab5957518b489fa7",
     "locked": true,
     "points": 0.25,
     "schema_version": 3,
     "solution": false,
     "task": false
    }
   },
   "outputs": [],
   "source": [
    "# TEST\n",
    "assert duplicated_id == False"
   ]
  },
  {
   "cell_type": "markdown",
   "id": "f019928b",
   "metadata": {
    "id": "f019928b"
   },
   "source": [
    "### Mỗi cột có ý nghĩa gì?"
   ]
  },
  {
   "cell_type": "markdown",
   "id": "b9b22dd7",
   "metadata": {
    "id": "b9b22dd7"
   },
   "source": [
    "Vụ này mình đã nói lúc thu thập dữ liệu. Ở đây, mình ghi lại một lần nữa:\n",
    "\n",
    "- \"Id\" là id (hash) dạng viết gọn của commit\n",
    "- \"ParentIds\" là id dạng viết gọn của (các) commit cha\n",
    "- \"AuthorName\" là tên của tác giả\n",
    "- \"AuthorEmail\" là email của tác giả\n",
    "- \"AuthorDate\" là ngày tác giả thực hiện commit\n",
    "- \"Subject\" là tựa đề của message (message tương tự như email, ngoài phần \"subject\" thì có thể có thêm phần \"body\"; ở đây ta chỉ lấy phần \"subject\")\n",
    "- \"ChangedFiles\": các file bị thay đổi, nếu có nhiều file thì các file được phân tách bởi dấu phẩy"
   ]
  },
  {
   "cell_type": "markdown",
   "id": "8f0a41a1",
   "metadata": {
    "id": "8f0a41a1"
   },
   "source": [
    "### Mỗi cột hiện đang có kiểu dữ liệu gì? Có cột nào có kiểu dữ liệu chưa phù hợp để có thể xử lý tiếp không?"
   ]
  },
  {
   "cell_type": "markdown",
   "id": "b7268c8f",
   "metadata": {
    "id": "b7268c8f"
   },
   "source": [
    "- Các cột \"Id\", \"ParentIds\", \"AuthorName\", \"AuthorEmail\", \"Subject\": kiểu dữ liệu dạng chuỗi là đúng rồi\n",
    "- Cột \"ChangedFiles\": hmm ... có lẽ tạm thời ta vẫn để dạng chuỗi, có gì cần thì ta sẽ xử lý sau\n",
    "- Cột \"AuthorDate\": cần chuyển từ kiểu dữ liệu dạng chuỗi sang datetime; để có thể tiếp tục khám phá tiếp thì ngay sau đây bạn sẽ tiền xử lý vụ này luôn"
   ]
  },
  {
   "cell_type": "markdown",
   "id": "eb45766a",
   "metadata": {
    "id": "eb45766a"
   },
   "source": [
    "---"
   ]
  },
  {
   "cell_type": "markdown",
   "id": "b94eccc0",
   "metadata": {
    "id": "b94eccc0"
   },
   "source": [
    "## Tiền xử lý (0.5đ)"
   ]
  },
  {
   "cell_type": "markdown",
   "id": "07367649",
   "metadata": {
    "id": "07367649"
   },
   "source": [
    "Ở đây, bạn sẽ chuyển cột \"AuthorDate\" từ dạng chuỗi sang datetime. <font color=gray>Gợi ý: bạn xem [document](https://docs.python.org/3/library/datetime.html#strftime-and-strptime-format-codes) để biết cách truyền format phù hợp cho hàm `strptime`.</font>"
   ]
  },
  {
   "cell_type": "code",
   "execution_count": 14,
   "id": "4f5f670c",
   "metadata": {
    "deletable": false,
    "id": "4f5f670c",
    "nbgrader": {
     "cell_type": "code",
     "checksum": "758261b3f6045b402f5abb5f4b080bb4",
     "grade": false,
     "grade_id": "cell-742e74182a9d1936",
     "locked": false,
     "schema_version": 3,
     "solution": true,
     "task": false
    }
   },
   "outputs": [],
   "source": [
    "# YOUR CODE HERE\n",
    "for i in range(len(cols['AuthorDate'])):\n",
    "    cols['AuthorDate'][i] = datetime.datetime.strptime(cols['AuthorDate'][i], \"%a, %d %b %Y %X %z\")\n",
    "\n"
   ]
  },
  {
   "cell_type": "code",
   "execution_count": null,
   "id": "d3745ce5",
   "metadata": {
    "deletable": false,
    "editable": false,
    "id": "d3745ce5",
    "nbgrader": {
     "cell_type": "code",
     "checksum": "5eca1fcb2e213809282e22ef9e6c8dfe",
     "grade": true,
     "grade_id": "cell-c551b6a15162bb10",
     "locked": true,
     "points": 0.5,
     "schema_version": 3,
     "solution": false,
     "task": false
    }
   },
   "outputs": [],
   "source": [
    "# TEST\n",
    "assert type(cols['AuthorDate'][0]) == datetime.datetime\n",
    "assert cols['AuthorDate'][0] == datetime.datetime(2021, 4, 20, 12, 27, 9, \n",
    "            tzinfo=datetime.timezone(datetime.timedelta(seconds=3600)))"
   ]
  },
  {
   "cell_type": "markdown",
   "id": "ef44a52e",
   "metadata": {
    "id": "ef44a52e"
   },
   "source": [
    "---"
   ]
  },
  {
   "cell_type": "markdown",
   "id": "53154bef",
   "metadata": {
    "id": "53154bef"
   },
   "source": [
    "## Khám phá dữ liệu (tiếp tục)"
   ]
  },
  {
   "cell_type": "markdown",
   "id": "d651709d",
   "metadata": {
    "id": "d651709d"
   },
   "source": [
    "### Với mỗi cột có kiểu dữ liệu dạng số (numeric) và dạng datetime, các giá trị được phân bố như thế nào? (0.5đ)"
   ]
  },
  {
   "cell_type": "markdown",
   "id": "0d592408",
   "metadata": {
    "id": "0d592408"
   },
   "source": [
    "Ở đây thì không có cột dạng số, chỉ có một cột dạng datetime là cột \"AuthorDate\".\n",
    "\n",
    "Đầu tiên, bạn tính tỉ lệ % các giá trị thiếu của cột \"AuthorDate\". <font color=gray>Gợi ý: không cần code, có thể lập luận dựa vào kết quả khi chuyển cột \"AuthorDate\" từ dạng chuỗi sang datetime ở bên trên.</font>"
   ]
  },
  {
   "cell_type": "markdown",
   "id": "38cc0dc8",
   "metadata": {
    "deletable": false,
    "id": "38cc0dc8",
    "nbgrader": {
     "cell_type": "markdown",
     "checksum": "0d29851ae39f01d9ed0d34f4891a918b",
     "grade": true,
     "grade_id": "cell-47e2584daf9dda74",
     "locked": false,
     "points": 0.25,
     "schema_version": 3,
     "solution": true,
     "task": false
    }
   },
   "source": [
    "Missing weekday"
   ]
  },
  {
   "cell_type": "markdown",
   "id": "109537c1",
   "metadata": {
    "id": "109537c1"
   },
   "source": [
    "Tiếp theo, bạn tính min và max của cột \"AuthorDate\", rồi lần lượt lưu vào hai biến `author_date_min` và `author_date_max`."
   ]
  },
  {
   "cell_type": "code",
   "execution_count": 15,
   "id": "154c41c1",
   "metadata": {
    "deletable": false,
    "id": "154c41c1",
    "nbgrader": {
     "cell_type": "code",
     "checksum": "5abe340e46e2811a6fa8c3fea2bf7dd6",
     "grade": false,
     "grade_id": "cell-ed5647763d70e921",
     "locked": false,
     "schema_version": 3,
     "solution": true,
     "task": false
    }
   },
   "outputs": [],
   "source": [
    "# YOUR CODE HERE\n",
    "author_date_min  = min(cols['AuthorDate'])\n",
    "author_date_max = max(cols['AuthorDate'])\n"
   ]
  },
  {
   "cell_type": "code",
   "execution_count": null,
   "id": "b713da5b",
   "metadata": {
    "deletable": false,
    "editable": false,
    "id": "b713da5b",
    "nbgrader": {
     "cell_type": "code",
     "checksum": "c7fd8957fa8f92f3f85288d8cc249fba",
     "grade": true,
     "grade_id": "cell-8bb55737a75c0a6e",
     "locked": true,
     "points": 0.25,
     "schema_version": 3,
     "solution": false,
     "task": false
    }
   },
   "outputs": [],
   "source": [
    "# TEST\n",
    "assert author_date_min == datetime.datetime(2015, 11, 9, 13, 13, 28, \n",
    "            tzinfo=datetime.timezone(datetime.timedelta(seconds=3600)))\n",
    "assert author_date_max == datetime.datetime(2021, 4, 20, 12, 27, 9, \n",
    "            tzinfo=datetime.timezone(datetime.timedelta(seconds=3600)))"
   ]
  },
  {
   "cell_type": "markdown",
   "id": "1e7d1c90",
   "metadata": {
    "id": "1e7d1c90"
   },
   "source": [
    "Hmm ... Min và max của cột \"AuthorDate\" không có gì bất thường."
   ]
  },
  {
   "cell_type": "markdown",
   "id": "49a7a821",
   "metadata": {
    "id": "49a7a821"
   },
   "source": [
    "### Với mỗi cột có kiểu dữ liệu dạng phân loại (categorical), các giá trị được phân bố như thế nào? (1.75đ)"
   ]
  },
  {
   "cell_type": "markdown",
   "id": "9ed2a095",
   "metadata": {
    "id": "9ed2a095"
   },
   "source": [
    "Các cột dạng phân loại là các cột mà không phải là cột \"AuthorDate\". Bạn sẽ lưu thông tin của các cột này vào biến `cate_col_profiles`. Biến này là một dictionary, trong đó mỗi phần tử ứng với một cột dạng phân loại, key là tên cột, value là list gồm: tỉ lệ % giá trị thiếu, số lượng các giá trị khác nhau (không tính giá trị thiếu), set chứa các giá trị khác nhau (không bao gồm giá trị thiếu)."
   ]
  },
  {
   "cell_type": "code",
   "execution_count": 16,
   "id": "f41b8828",
   "metadata": {
    "deletable": false,
    "id": "f41b8828",
    "nbgrader": {
     "cell_type": "code",
     "checksum": "3317a65ff1cce4222cc0a63602dcaef9",
     "grade": false,
     "grade_id": "cell-d9eb895996d7b157",
     "locked": false,
     "schema_version": 3,
     "solution": true,
     "task": false
    }
   },
   "outputs": [],
   "source": [
    "# YOUR CODE HERE\n",
    "cate_name = cols_name.copy()\n",
    "cate_name.remove('AuthorDate')\n",
    "cate_col_profiles = {key:[] for key in cate_name}\n",
    "for i in range(len(cate_name)):\n",
    "    count = 0\n",
    "    for j in range(len(cols[cate_name[i]])):\n",
    "        if cols[cate_name[i]][j] == '':\n",
    "            count+=1\n",
    "    cate_col_profiles[cate_name[i]].append(count/len(cols[cate_name[i]]) *100)\n",
    "    cate_col_set = set(cols[cate_name[i]])\n",
    "    if '' in cate_col_set:\n",
    "        cate_col_set.remove('')\n",
    "    cate_col_profiles[cate_name[i]].append(len(cate_col_set))\n",
    "    cate_col_profiles[cate_name[i]].append(cate_col_set)\n",
    "\n"
   ]
  },
  {
   "cell_type": "code",
   "execution_count": null,
   "id": "c2b2d0d3",
   "metadata": {
    "deletable": false,
    "editable": false,
    "id": "c2b2d0d3",
    "nbgrader": {
     "cell_type": "code",
     "checksum": "53f116101747d9d3c845e486cb8ab2e8",
     "grade": true,
     "grade_id": "cell-50123f76f79e1f27",
     "locked": true,
     "points": 1,
     "schema_version": 3,
     "solution": false,
     "task": false
    }
   },
   "outputs": [],
   "source": [
    "# TEST\n",
    "assert set(cate_col_profiles.keys()) == {'AuthorEmail', 'AuthorName', \n",
    "                                         'ChangedFiles', 'Id', \n",
    "                                         'ParentIds', 'Subject'}\n",
    "for col_name, col_profile in cate_col_profiles.items():\n",
    "    assert len(col_profile) == 3\n",
    "    assert len(col_profile[2]) == col_profile[1]\n",
    "assert round(cate_col_profiles['ParentIds'][0], 3) == 0.052\n",
    "assert round(cate_col_profiles['ChangedFiles'][0], 3) == 16.079\n",
    "assert cate_col_profiles['ParentIds'][1] == 1820\n",
    "assert cate_col_profiles['ChangedFiles'][1] == 842"
   ]
  },
  {
   "cell_type": "code",
   "execution_count": 17,
   "id": "f332814f",
   "metadata": {
    "id": "f332814f"
   },
   "outputs": [
    {
     "name": "stdout",
     "output_type": "stream",
     "text": [
      "ColName      Miss(%) NumDifVals SomeVals\n",
      "Id           0.000   1928       {'37a7104', '50d8274', '038689b', ...\n",
      "ParentIds    0.052   1820       {'a5e1f72 e2fc76b', '37a7104', 'f1...\n",
      "AuthorName   0.000   34         {'Tim Staley', 'Jonathan Whitmore'...\n",
      "AuthorEmail  0.000   34         {'Engler.Will@gmail.com', 'vidartf...\n",
      "Subject      0.000   1860       {'try to write gitattributes when ...\n",
      "ChangedFiles 16.079  842        {'nbdime/diff/diff.py,nbdime/diff/...\n"
     ]
    }
   ],
   "source": [
    "# TEST (BY EYES)\n",
    "print(f\"{'ColName':12} {'Miss(%)':7} {'NumDifVals':10} {'SomeVals'}\")\n",
    "for col_name, col_profile in cate_col_profiles.items():\n",
    "    print(f'{col_name:12} {col_profile[0]:<7.3f} {col_profile[1]:<10} {col_profile[2].__repr__()[:34]+\"...\":<}')"
   ]
  },
  {
   "cell_type": "markdown",
   "id": "80b141f0",
   "metadata": {
    "id": "80b141f0"
   },
   "source": [
    "Bạn quan sát kết quả in ra ở trên (tạm thời chưa để ý đến cột \"Miss(%)\") và cho biết có gì bất thường không? Hay mọi thứ đều bình thường? Cho mình biết tại sao bạn lại kết luận như vậy."
   ]
  },
  {
   "cell_type": "markdown",
   "id": "5f0862e3",
   "metadata": {
    "deletable": false,
    "id": "5f0862e3",
    "nbgrader": {
     "cell_type": "markdown",
     "checksum": "6b4e0ea35fa2498c8ca58017183e5ca7",
     "grade": true,
     "grade_id": "cell-88055a6ed4991805",
     "locked": false,
     "points": 0.25,
     "schema_version": 3,
     "solution": true,
     "task": false
    }
   },
   "source": [
    "Mọi thứ đều bình thường vì ở cột id, các giá trị phải phân biệt nên có 1928, các giá trị khác có thể trùng nhau nên sẽ cho kết quả thấp hơn cột id"
   ]
  },
  {
   "cell_type": "markdown",
   "id": "262f05c9",
   "metadata": {
    "id": "262f05c9"
   },
   "source": [
    "Kế tiếp, bạn hãy cho in ra các dòng mà có giá trị thiếu (in sao là tùy bạn, miễn là dễ nhìn). Sau đó, bạn hãy quan sát các dòng này để xem tại sao lại bị thiếu (trong trường hợp, bạn không biết tại sao thì cứ ghi nhận là không biết tại sao)."
   ]
  },
  {
   "cell_type": "code",
   "execution_count": 18,
   "id": "b436b01c",
   "metadata": {
    "deletable": false,
    "id": "b436b01c",
    "nbgrader": {
     "cell_type": "code",
     "checksum": "d1a9502c7c37ba7b6600579bec4e5627",
     "grade": true,
     "grade_id": "cell-fda56cd71a2bb407",
     "locked": false,
     "points": 0.25,
     "schema_version": 3,
     "solution": true,
     "task": false
    }
   },
   "outputs": [
    {
     "name": "stdout",
     "output_type": "stream",
     "text": [
      "Id                 ParentIds          AuthorName         AuthorEmail        AuthorDate         Subject            ChangedFiles       \n",
      "\n",
      "'524aac2'...'2994fb4 e4e696c...'Vidar Tonaas Fa...'vidartf@gmail.c...datetime.datetim...'Merge pull requ...''...\n",
      "\n",
      "'ab8e60d'...'f1e18ff 23e0cc9...'Vidar Tonaas Fa...'vidartf@gmail.c...datetime.datetim...'Merge pull requ...''...\n",
      "\n",
      "'f1e18ff'...'52f7990 6c1ce97...'Vidar Tonaas Fa...'vidartf@gmail.c...datetime.datetim...'Merge pull requ...''...\n",
      "\n",
      "'52f7990'...'8ce708c 25252f6...'Vidar Tonaas Fa...'vidartf@gmail.c...datetime.datetim...'Merge pull requ...''...\n",
      "\n",
      "'8ce708c'...'4291b8c dea43d6...'Vidar Tonaas Fa...'vidartf@gmail.c...datetime.datetim...'Merge pull requ...''...\n",
      "\n",
      "'075f502'...'2d1edb8 4291b8c...'Vidar Tonaas Fa...'vidartf@gmail.c...datetime.datetim...\"Merge branch 'm...''...\n",
      "\n",
      "'4291b8c'...'ab9f1bc 86c28f7...'Vidar Tonaas Fa...'vidartf@gmail.c...datetime.datetim...'Merge pull requ...''...\n",
      "\n",
      "'ab9f1bc'...'c823623 295e834...'Vidar Tonaas Fa...'vidartf@gmail.c...datetime.datetim...'Merge pull requ...''...\n",
      "\n",
      "'fe2911a'...'c38cfc5 25101fe...'Michał Krassows...'5832902+krassow...datetime.datetim...'Merge pull requ...''...\n",
      "\n",
      "'a0726e5'...'75363a0 8c52de8...'Vidar Tonaas Fa...'vidartf@gmail.c...datetime.datetim...'Merge pull requ...''...\n",
      "\n",
      "'75363a0'...'f6beb60 206fee8...'Vidar Tonaas Fa...'vidartf@gmail.c...datetime.datetim...'Merge pull requ...''...\n",
      "\n",
      "'f6beb60'...'92fc22d 4b1129b...'Vidar Tonaas Fa...'vidartf@gmail.c...datetime.datetim...'Merge pull requ...''...\n",
      "\n",
      "'77cac58'...'b707946 ca3b311...'Vidar Tonaas Fa...'vidartf@gmail.c...datetime.datetim...'Merge pull requ...''...\n",
      "\n",
      "'b707946'...'141b2dc 598c072...'Vidar Tonaas Fa...'vidartf@gmail.c...datetime.datetim...'Merge pull requ...''...\n",
      "\n",
      "'141b2dc'...'0f0a90a 4d2e319...'Vidar Tonaas Fa...'vidartf@gmail.c...datetime.datetim...'Merge pull requ...''...\n",
      "\n",
      "'f259cae'...'8804407 eaf9c06...'Vidar Tonaas Fa...'vidartf@gmail.c...datetime.datetim...'Merge pull requ...''...\n",
      "\n",
      "'eaf9c06'...'bf5a540 a20c789...'Vidar Tonaas Fa...'vidartf@gmail.c...datetime.datetim...\"Merge branch 'w...''...\n",
      "\n",
      "'d330173'...'133c4bf 2cd6efe...'Vidar Tonaas Fa...'vidartf@gmail.c...datetime.datetim...'Merge pull requ...''...\n",
      "\n",
      "'133c4bf'...'a9435d5 326da89...'Vidar Tonaas Fa...'vidartf@gmail.c...datetime.datetim...'Merge pull requ...''...\n",
      "\n",
      "'a9435d5'...'a506b66 d4f8247...'Vidar Tonaas Fa...'vidartf@gmail.c...datetime.datetim...'Merge pull requ...''...\n",
      "\n",
      "'a506b66'...'d067442 fed6e17...'Min RK'...'benjaminrk@gmai...datetime.datetim...'Merge pull requ...''...\n",
      "\n",
      "'d067442'...'d9cbd7b 9b67c6c...'Vidar Tonaas Fa...'vidartf@gmail.c...datetime.datetim...'Merge pull requ...''...\n",
      "\n",
      "'d9cbd7b'...'425c46d f036d20...'Vidar Tonaas Fa...'vidartf@gmail.c...datetime.datetim...'Merge pull requ...''...\n",
      "\n",
      "'425c46d'...'6259cd0 ce08ccf...'Min RK'...'benjaminrk@gmai...datetime.datetim...'Merge pull requ...''...\n",
      "\n",
      "'6259cd0'...'137182a 0dbe870...'Vidar Tonaas Fa...'vidartf@gmail.c...datetime.datetim...'Merge pull requ...''...\n",
      "\n",
      "'137182a'...'a9faba1 cd528a8...'Vidar Tonaas Fa...'vidartf@gmail.c...datetime.datetim...'Merge pull requ...''...\n",
      "\n",
      "'a9faba1'...'cdadb44 e114af0...'Vidar Tonaas Fa...'vidartf@gmail.c...datetime.datetim...'Merge pull requ...''...\n",
      "\n",
      "'cdadb44'...'ec065a7 0810fa3...'Vidar Tonaas Fa...'vidartf@gmail.c...datetime.datetim...'Merge pull requ...''...\n",
      "\n",
      "'300067c'...'0590d1b b9d972e...'Vidar Tonaas Fa...'vidartf@gmail.c...datetime.datetim...'Merge pull requ...''...\n",
      "\n",
      "'0590d1b'...'1f864d2 c3c652e...'Vidar Tonaas Fa...'vidartf@gmail.c...datetime.datetim...'Merge pull requ...''...\n",
      "\n",
      "'fabbeb7'...'ba18b56 b75bfa7...'Vidar Tonaas Fa...'vidartf@gmail.c...datetime.datetim...'Merge pull requ...''...\n",
      "\n",
      "'ba18b56'...'c2635db 0509d39...'Vidar Tonaas Fa...'vidartf@gmail.c...datetime.datetim...'Merge pull requ...''...\n",
      "\n",
      "'8940d58'...'0910bcd 4f5cdde...'Vidar Tonaas Fa...'vidartf@gmail.c...datetime.datetim...'Merge pull requ...''...\n",
      "\n",
      "'0910bcd'...'b8c7829 95fe0aa...'Vidar Tonaas Fa...'vidartf@gmail.c...datetime.datetim...'Merge pull requ...''...\n",
      "\n",
      "'b8c7829'...'91ac9bf 384acd9...'Vidar Tonaas Fa...'vidartf@gmail.c...datetime.datetim...'Merge pull requ...''...\n",
      "\n",
      "'91ac9bf'...'31b716e 8e65719...'Vidar Tonaas Fa...'vidartf@gmail.c...datetime.datetim...'Merge pull requ...''...\n",
      "\n",
      "'31b716e'...'07714c0 5ab35e7...'Vidar Tonaas Fa...'vidartf@gmail.c...datetime.datetim...'Merge pull requ...''...\n",
      "\n",
      "'07714c0'...'435ce3b f79fd54...'Min RK'...'benjaminrk@gmai...datetime.datetim...'Merge pull requ...''...\n",
      "\n",
      "'435ce3b'...'d71758d 027145e...'Vidar Tonaas Fa...'vidartf@gmail.c...datetime.datetim...'Merge pull requ...''...\n",
      "\n",
      "'c24fc22'...'5a92521 93095de...'Vidar Tonaas Fa...'vidartf@gmail.c...datetime.datetim...'Merge pull requ...''...\n",
      "\n",
      "'5a92521'...'ed222a2 eac7bc6...'Vidar Tonaas Fa...'vidartf@gmail.c...datetime.datetim...'Merge pull requ...''...\n",
      "\n",
      "'ed222a2'...'d44e3b5 b669e85...'Vidar Tonaas Fa...'vidartf@gmail.c...datetime.datetim...'Merge pull requ...''...\n",
      "\n",
      "'abdde8f'...'20e07f4 58c5197...'Vidar Tonaas Fa...'vidartf@gmail.c...datetime.datetim...'Merge pull requ...''...\n",
      "\n",
      "'d3a0962'...'60a93bc fefdbe5...'Vidar Tonaas Fa...'vidartf@gmail.c...datetime.datetim...'Merge pull requ...''...\n",
      "\n",
      "'959ce75'...'98c3af9 091bdea...'Vidar Tonaas Fa...'vidartf@gmail.c...datetime.datetim...'Merge pull requ...''...\n",
      "\n",
      "'98c3af9'...'98bf4dc 9d36c6b...'Vidar Tonaas Fa...'vidartf@gmail.c...datetime.datetim...'Merge pull requ...''...\n",
      "\n",
      "'98bf4dc'...'c968e6f ac9647b...'Vidar Tonaas Fa...'vidartf@gmail.c...datetime.datetim...'Merge pull requ...''...\n",
      "\n",
      "'c968e6f'...'d070da0 0970ed3...'Vidar Tonaas Fa...'vidartf@gmail.c...datetime.datetim...'Merge pull requ...''...\n",
      "\n",
      "'eef0e50'...'14137b6 c591417...'Vidar Tonaas Fa...'vidartf@gmail.c...datetime.datetim...'Merge pull requ...''...\n",
      "\n",
      "'559bae6'...'039c821 7111b70...'Vidar Tonaas Fa...'vidartf@gmail.c...datetime.datetim...'Merge pull requ...''...\n",
      "\n",
      "'fb6484a'...'3d7d95e 54cf807...'Vidar Tonaas Fa...'vidartf@gmail.c...datetime.datetim...'Merge pull requ...''...\n",
      "\n",
      "'3fc3e9a'...'a93b42c abc3939...'Vidar Tonaas Fa...'vidartf@gmail.c...datetime.datetim...'Merge pull requ...''...\n",
      "\n",
      "'a93b42c'...'9cf252c 4605e25...'Vidar Tonaas Fa...'vidartf@gmail.c...datetime.datetim...'Merge pull requ...''...\n",
      "\n",
      "'9cf252c'...'fc1af0c ff9642c...'Vidar Tonaas Fa...'vidartf@gmail.c...datetime.datetim...'Merge pull requ...''...\n",
      "\n",
      "'fc1af0c'...'69585e7 229bd68...'Vidar Tonaas Fa...'vidartf@gmail.c...datetime.datetim...'Merge pull requ...''...\n",
      "\n",
      "'220bc1f'...'cf45e47 7df4bc8...'Vidar Tonaas Fa...'vidartf@gmail.c...datetime.datetim...'Merge pull requ...''...\n",
      "\n",
      "'cf45e47'...'7748bd5 020a00d...'Vidar Tonaas Fa...'vidartf@gmail.c...datetime.datetim...'Merge pull requ...''...\n",
      "\n",
      "'7748bd5'...'a83fdb1 e39f5e7...'Vidar Tonaas Fa...'vidartf@gmail.c...datetime.datetim...'Merge pull requ...''...\n",
      "\n",
      "'f0d66a6'...'0e47f41 035b3d6...'Vidar Tonaas Fa...'vidartf@gmail.c...datetime.datetim...'Merge pull requ...''...\n",
      "\n",
      "'0e47f41'...'32df48a e675aa0...'Vidar Tonaas Fa...'vidartf@gmail.c...datetime.datetim...'Merge pull requ...''...\n",
      "\n",
      "'32df48a'...'f50d8e5 c8cfaa0...'Vidar Tonaas Fa...'vidartf@gmail.c...datetime.datetim...'Merge pull requ...''...\n",
      "\n",
      "'f50d8e5'...'bf8da35 fa0590c...'Vidar Tonaas Fa...'vidartf@gmail.c...datetime.datetim...'Merge pull requ...''...\n",
      "\n",
      "'bf8da35'...'83976ac 4c2f423...'Vidar Tonaas Fa...'vidartf@gmail.c...datetime.datetim...'Merge pull requ...''...\n",
      "\n",
      "'c30847b'...'ef9d708 e18d8b6...'Vidar Tonaas Fa...'vidartf@gmail.c...datetime.datetim...'Merge pull requ...''...\n",
      "\n",
      "'ef9d708'...'1bb9458 e67a71d...'Vidar Tonaas Fa...'vidartf@gmail.c...datetime.datetim...'Merge pull requ...''...\n",
      "\n",
      "'1bb9458'...'25878a5 151415d...'Vidar Tonaas Fa...'vidartf@gmail.c...datetime.datetim...'Merge pull requ...''...\n",
      "\n",
      "'25878a5'...'0234912 35309cd...'Vidar Tonaas Fa...'vidartf@gmail.c...datetime.datetim...'Merge pull requ...''...\n",
      "\n",
      "'0234912'...'e510209 8c614c0...'Vidar Tonaas Fa...'vidartf@gmail.c...datetime.datetim...'Merge pull requ...''...\n",
      "\n",
      "'e510209'...'0e1c4d6 5371adc...'Vidar Tonaas Fa...'vidartf@gmail.c...datetime.datetim...'Merge pull requ...''...\n",
      "\n",
      "'1b332c8'...'ffaaf75 e96b96d...'Vidar Tonaas Fa...'vidartf@gmail.c...datetime.datetim...'Merge pull requ...''...\n",
      "\n",
      "'ffaaf75'...'28a436b 031c2dc...'Vidar Tonaas Fa...'vidartf@gmail.c...datetime.datetim...'Merge pull requ...''...\n",
      "\n",
      "'28a436b'...'b7ececa 8ad275e...'Vidar Tonaas Fa...'vidartf@gmail.c...datetime.datetim...'Merge pull requ...''...\n",
      "\n",
      "'52e68c8'...'09ce7af 4b55685...'Vidar Tonaas Fa...'vidartf@gmail.c...datetime.datetim...'Merge pull requ...''...\n",
      "\n",
      "'09ce7af'...'bd9873c 0d197ea...'Vidar Tonaas Fa...'vidartf@gmail.c...datetime.datetim...'Merge pull requ...''...\n",
      "\n",
      "'bd9873c'...'f330467 fdaf9c3...'Vidar Tonaas Fa...'vidartf@gmail.c...datetime.datetim...'Merge pull requ...''...\n",
      "\n",
      "'f330467'...'789e5b4 ba00a8d...'Vidar Tonaas Fa...'vidartf@gmail.c...datetime.datetim...'Merge pull requ...''...\n",
      "\n",
      "'2656120'...'145efe3'...'Vidar Tonaas Fa...'vidartf@gmail.c...datetime.datetim...'nbdime-jupyterl...''...\n",
      "\n",
      "'55d56ee'...'d59a446 b58a9d8...'Vidar Tonaas Fa...'vidartf@gmail.c...datetime.datetim...'Merge pull requ...''...\n",
      "\n",
      "'d59a446'...'14c7c0a 1e9d547...'Vidar Tonaas Fa...'vidartf@gmail.c...datetime.datetim...'Merge pull requ...''...\n",
      "\n",
      "'e03c861'...'7914988 ae8f008...'Vidar Tonaas Fa...'vidartf@gmail.c...datetime.datetim...'Merge pull requ...''...\n",
      "\n",
      "'7914988'...'0a60cdc 1d7b23d...'Vidar Tonaas Fa...'vidartf@gmail.c...datetime.datetim...'Merge pull requ...''...\n",
      "\n",
      "'0a60cdc'...'35c3c96 cbcc974...'Vidar Tonaas Fa...'vidartf@gmail.c...datetime.datetim...'Merge pull requ...''...\n",
      "\n",
      "'e4b9dc6'...'66cc086 04af6c9...'Vidar Tonaas Fa...'vidartf@gmail.c...datetime.datetim...'Merge pull requ...''...\n",
      "\n",
      "'670e8a0'...'12dd2ab fb5560a...'Vidar Tonaas Fa...'vidartf@gmail.c...datetime.datetim...'Merge pull requ...''...\n",
      "\n",
      "'77398e0'...'f16ecac 6277ec7...'Min RK'...'benjaminrk@gmai...datetime.datetim...'Merge pull requ...''...\n",
      "\n",
      "'f16ecac'...'350f5ca 961c568...'Vidar Tonaas Fa...'vidartf@gmail.c...datetime.datetim...'Merge pull requ...''...\n",
      "\n",
      "'350f5ca'...'8d6421d 0a8342c...'Vidar Tonaas Fa...'vidartf@gmail.c...datetime.datetim...'Merge pull requ...''...\n",
      "\n",
      "'8d6421d'...'ac7358f 5c25fd0...'Vidar Tonaas Fa...'vidartf@gmail.c...datetime.datetim...'Merge pull requ...''...\n",
      "\n",
      "'ac7358f'...'7c4b998 c155592...'Vidar Tonaas Fa...'vidartf@gmail.c...datetime.datetim...'Merge pull requ...''...\n",
      "\n",
      "'7c4b998'...'c21fd7f 3dd98b6...'Vidar Tonaas Fa...'vidartf@gmail.c...datetime.datetim...'Merge pull requ...''...\n",
      "\n",
      "'c21fd7f'...'eac0417 c432a92...'Vidar Tonaas Fa...'vidartf@gmail.c...datetime.datetim...'Merge pull requ...''...\n",
      "\n",
      "'eac0417'...'e019d4c 18525fa...'Vidar Tonaas Fa...'vidartf@gmail.c...datetime.datetim...'Merge pull requ...''...\n",
      "\n",
      "'e019d4c'...'05c5047 719f66a...'Vidar Tonaas Fa...'vidartf@gmail.c...datetime.datetim...'Merge pull requ...''...\n",
      "\n",
      "'05c5047'...'f0a36a1 fdf07ba...'Vidar Tonaas Fa...'vidartf@gmail.c...datetime.datetim...'Merge pull requ...''...\n",
      "\n",
      "'f0a36a1'...'344a450 6f54c3d...'Vidar Tonaas Fa...'vidartf@gmail.c...datetime.datetim...'Merge pull requ...''...\n",
      "\n",
      "'344a450'...'4022e8c 8a69ef3...'Vidar Tonaas Fa...'vidartf@gmail.c...datetime.datetim...'Merge pull requ...''...\n",
      "\n",
      "'4022e8c'...'f0284ac 461fd66...'Min RK'...'benjaminrk@gmai...datetime.datetim...'Merge pull requ...''...\n",
      "\n",
      "'f0284ac'...'ff6e1fd 588b9ab...'Vidar Tonaas Fa...'vidartf@gmail.c...datetime.datetim...'Merge pull requ...''...\n",
      "\n",
      "'2354345'...'f884858 8345baf...'Vidar Tonaas Fa...'vidartf@gmail.c...datetime.datetim...'Merge pull requ...''...\n",
      "\n",
      "'f884858'...'dfff8ff 92b5b0c...'Vidar Tonaas Fa...'vidartf@gmail.c...datetime.datetim...'Merge pull requ...''...\n",
      "\n",
      "'dfff8ff'...'7240999 e4a223d...'Vidar Tonaas Fa...'vidartf@gmail.c...datetime.datetim...'Merge pull requ...''...\n",
      "\n",
      "'7240999'...'d5a3b66 f883682...'Vidar Tonaas Fa...'vidartf@gmail.c...datetime.datetim...'Merge pull requ...''...\n",
      "\n",
      "'d5a3b66'...'e81d466 0f13db4...'Min RK'...'benjaminrk@gmai...datetime.datetim...'Merge pull requ...''...\n",
      "\n",
      "'e81d466'...'f7cedce 519db53...'Min RK'...'benjaminrk@gmai...datetime.datetim...'Merge pull requ...''...\n",
      "\n",
      "'ce16aec'...'c1a95e1 3bc3009...'Min RK'...'benjaminrk@gmai...datetime.datetim...'Merge pull requ...''...\n",
      "\n",
      "'c1a95e1'...'cd5403a 380d246...'Min RK'...'benjaminrk@gmai...datetime.datetim...'Merge pull requ...''...\n",
      "\n",
      "'06784cd'...'13d10af 333a696...'Vidar Tonaas Fa...'vidartf@gmail.c...datetime.datetim...'Merge pull requ...''...\n",
      "\n",
      "'13d10af'...'31233af 8d21f14...'Min RK'...'benjaminrk@gmai...datetime.datetim...'Merge pull requ...''...\n",
      "\n",
      "'31233af'...'a70fc47 4ac94e0...'Min RK'...'benjaminrk@gmai...datetime.datetim...'Merge pull requ...''...\n",
      "\n",
      "'a70fc47'...'3b51405 a51d525...'Min RK'...'benjaminrk@gmai...datetime.datetim...'Merge pull requ...''...\n",
      "\n",
      "'85b9439'...'fd10644 512be11...'Vidar Tonaas Fa...'vidartf@gmail.c...datetime.datetim...'Merge pull requ...''...\n",
      "\n",
      "'fd10644'...'7bb9fae 864add9...'Vidar Tonaas Fa...'vidartf@gmail.c...datetime.datetim...'Merge pull requ...''...\n",
      "\n",
      "'7bb9fae'...'a184e7e 56490f8...'Vidar Tonaas Fa...'vidartf@gmail.c...datetime.datetim...'Merge pull requ...''...\n",
      "\n",
      "'a184e7e'...'b0327b0 46f892e...'Min RK'...'benjaminrk@gmai...datetime.datetim...'Merge pull requ...''...\n",
      "\n",
      "'b0327b0'...'e9ba0e4 243c996...'Vidar Tonaas Fa...'vidartf@gmail.c...datetime.datetim...'Merge pull requ...''...\n",
      "\n",
      "'e9ba0e4'...'cad565e 19aa64f...'Vidar Tonaas Fa...'vidartf@gmail.c...datetime.datetim...'Merge pull requ...''...\n",
      "\n",
      "'cad565e'...'4da3738 647284d...'Vidar Tonaas Fa...'vidartf@gmail.c...datetime.datetim...'Merge pull requ...''...\n",
      "\n",
      "'4da3738'...'a489683 d8ff107...'Vidar Tonaas Fa...'vidartf@gmail.c...datetime.datetim...'Merge pull requ...''...\n",
      "\n",
      "'a489683'...'cfb7408 86abf32...'Min RK'...'benjaminrk@gmai...datetime.datetim...'Merge pull requ...''...\n",
      "\n",
      "'cfb7408'...'bc93659 51787b0...'Min RK'...'benjaminrk@gmai...datetime.datetim...'Merge pull requ...''...\n",
      "\n",
      "'bc93659'...'40dec01 4cdd49f...'Min RK'...'benjaminrk@gmai...datetime.datetim...'Merge pull requ...''...\n",
      "\n",
      "'40dec01'...'6c3e8bb d30d54c...'Vidar Tonaas Fa...'vidartf@gmail.c...datetime.datetim...'Merge pull requ...''...\n",
      "\n",
      "'6c3e8bb'...'b384cd4 900e6b6...'Min RK'...'benjaminrk@gmai...datetime.datetim...'Merge pull requ...''...\n",
      "\n",
      "'b384cd4'...'edfc38a 36e6b14...'Min RK'...'benjaminrk@gmai...datetime.datetim...'Merge pull requ...''...\n",
      "\n",
      "'36e6b14'...'391f448 edfc38a...'Min RK'...'benjaminrk@gmai...datetime.datetim...\"Merge branch 'm...''...\n",
      "\n",
      "'edfc38a'...'5f6c38f 6ed76ac...'Min RK'...'benjaminrk@gmai...datetime.datetim...'Merge pull requ...''...\n",
      "\n",
      "'852fd94'...'9540d0b f2a9f6e...'Vidar Tonaas Fa...'vidartf@gmail.c...datetime.datetim...'Merge pull requ...''...\n",
      "\n",
      "'9540d0b'...'a7496a2 574ec67...'Min RK'...'benjaminrk@gmai...datetime.datetim...'Merge pull requ...''...\n",
      "\n",
      "'a7496a2'...'41fd2d3 e03f7bd...'Vidar Tonaas Fa...'vidartf@gmail.c...datetime.datetim...'Merge pull requ...''...\n",
      "\n",
      "'b10078b'...'76df65e 3200656...'Vidar Tonaas Fa...'vidartf@gmail.c...datetime.datetim...'Merge pull requ...''...\n",
      "\n",
      "'76df65e'...'c2ee8eb 9002d56...'Min RK'...'benjaminrk@gmai...datetime.datetim...'Merge pull requ...''...\n",
      "\n",
      "'393bd56'...'73f5f70 56d9ad2...'Min RK'...'benjaminrk@gmai...datetime.datetim...'Merge pull requ...''...\n",
      "\n",
      "'73f5f70'...'c8f5544 a5f5423...'Min RK'...'benjaminrk@gmai...datetime.datetim...'Merge pull requ...''...\n",
      "\n",
      "'c8f5544'...'1dbc671 99109dd...'Min RK'...'benjaminrk@gmai...datetime.datetim...'Merge pull requ...''...\n",
      "\n",
      "'1dbc671'...'2424bc4 10eae14...'Min RK'...'benjaminrk@gmai...datetime.datetim...'Merge pull requ...''...\n",
      "\n",
      "'2424bc4'...'38b1502 d8894cb...'Vidar Tonaas Fa...'vidartf@gmail.c...datetime.datetim...'Merge pull requ...''...\n",
      "\n",
      "'38b1502'...'5762bc3 f17b9d6...'Min RK'...'benjaminrk@gmai...datetime.datetim...'Merge pull requ...''...\n",
      "\n",
      "'5762bc3'...'2640b6d f65451c...'Min RK'...'benjaminrk@gmai...datetime.datetim...'Merge pull requ...''...\n",
      "\n",
      "'a18f1e8'...'eedd971 9f20c20...'Min RK'...'benjaminrk@gmai...datetime.datetim...'Merge pull requ...''...\n",
      "\n",
      "'eedd971'...'a205d4a 2494ab3...'Vidar Tonaas Fa...'vidartf@gmail.c...datetime.datetim...'Merge pull requ...''...\n",
      "\n",
      "'25909c8'...'4530423 b3575ea...'Min RK'...'benjaminrk@gmai...datetime.datetim...'Merge pull requ...''...\n",
      "\n",
      "'4530423'...'8f000c5 f1c8716...'Min RK'...'benjaminrk@gmai...datetime.datetim...'Merge pull requ...''...\n",
      "\n",
      "'8f000c5'...'4bdc258 456ede9...'Vidar Tonaas Fa...'vidartf@gmail.c...datetime.datetim...'Merge pull requ...''...\n",
      "\n",
      "'4bdc258'...'83ae911 d01cb4d...'Min RK'...'benjaminrk@gmai...datetime.datetim...'Merge pull requ...''...\n",
      "\n",
      "'83ae911'...'30a760b 1fe5d66...'Min RK'...'benjaminrk@gmai...datetime.datetim...'Merge pull requ...''...\n",
      "\n",
      "'e64d9f7'...'352e8a5 024a9ec...'Min RK'...'benjaminrk@gmai...datetime.datetim...'Merge pull requ...''...\n",
      "\n",
      "'352e8a5'...'9e6f400 4880e52...'Vidar Tonaas Fa...'vidartf@gmail.c...datetime.datetim...'Merge pull requ...''...\n",
      "\n",
      "'9e6f400'...'9c4f355 97774cc...'Vidar Tonaas Fa...'vidartf@gmail.c...datetime.datetim...'Merge pull requ...''...\n",
      "\n",
      "'9c4f355'...'804cea7 33f7686...'Min RK'...'benjaminrk@gmai...datetime.datetim...'Merge pull requ...''...\n",
      "\n",
      "'804cea7'...'9531aa9 f0cf9a7...'Min RK'...'benjaminrk@gmai...datetime.datetim...'Merge pull requ...''...\n",
      "\n",
      "'9531aa9'...'8e493b1 7593dac...'Min RK'...'benjaminrk@gmai...datetime.datetim...'Merge pull requ...''...\n",
      "\n",
      "'990fded'...'77982f9 46df21e...'Min RK'...'benjaminrk@gmai...datetime.datetim...'Merge pull requ...''...\n",
      "\n",
      "'46df21e'...'ba3dbc9 77982f9...'Min RK'...'benjaminrk@gmai...datetime.datetim...\"Merge branch 'm...''...\n",
      "\n",
      "'77982f9'...'4ae79a8 b143270...'Min RK'...'benjaminrk@gmai...datetime.datetim...'Merge pull requ...''...\n",
      "\n",
      "'4ae79a8'...'6d9aaec 3fba95f...'Min RK'...'benjaminrk@gmai...datetime.datetim...'Merge pull requ...''...\n",
      "\n",
      "'6d9aaec'...'d08ceab 58282a4...'Vidar Tonaas Fa...'vidartf@gmail.c...datetime.datetim...'Merge pull requ...''...\n",
      "\n",
      "'b9c3184'...'5c92cfb 568064a...'Vidar Tonaas Fa...'vidartf@gmail.c...datetime.datetim...'Merge pull requ...''...\n",
      "\n",
      "'5c92cfb'...'470eaf8 72561f2...'Martin Sandve A...'martinal@simula...datetime.datetim...'Merge pull requ...''...\n",
      "\n",
      "'65ced79'...'84e6cf3 712cf0d...'Min RK'...'benjaminrk@gmai...datetime.datetim...'Merge pull requ...''...\n",
      "\n",
      "'84e6cf3'...'823dfd6 0e7e023...'Min RK'...'benjaminrk@gmai...datetime.datetim...'Merge pull requ...''...\n",
      "\n",
      "'823dfd6'...'b1454bc 92d2732...'Min RK'...'benjaminrk@gmai...datetime.datetim...'Merge pull requ...''...\n",
      "\n",
      "'b1454bc'...'6bdacd4 1023e5f...'Vidar Tonaas Fa...'vidartf@gmail.c...datetime.datetim...'Merge pull requ...''...\n",
      "\n",
      "'6bdacd4'...'900b22e 910c419...'Min RK'...'benjaminrk@gmai...datetime.datetim...'Merge pull requ...''...\n",
      "\n",
      "'900b22e'...'3df71d0 f967a60...'Min RK'...'benjaminrk@gmai...datetime.datetim...'Merge pull requ...''...\n",
      "\n",
      "'3df71d0'...'361b2f1 eefebeb...'Min RK'...'benjaminrk@gmai...datetime.datetim...'Merge pull requ...''...\n",
      "\n",
      "'361b2f1'...'9bece08 b04db6c...'Vidar Tonaas Fa...'vidartf@gmail.c...datetime.datetim...'Merge pull requ...''...\n",
      "\n",
      "'9bece08'...'f311624 f808b7f...'Min RK'...'benjaminrk@gmai...datetime.datetim...'Merge pull requ...''...\n",
      "\n",
      "'f311624'...'5560090 00af346...'Min RK'...'benjaminrk@gmai...datetime.datetim...'Merge pull requ...''...\n",
      "\n",
      "'5560090'...'941a4e1 96f6dd9...'Min RK'...'benjaminrk@gmai...datetime.datetim...'Merge pull requ...''...\n",
      "\n",
      "'941a4e1'...'ad6ebdc eef6229...'Min RK'...'benjaminrk@gmai...datetime.datetim...'Merge pull requ...''...\n",
      "\n",
      "'ad6ebdc'...'031b756 edec016...'Min RK'...'benjaminrk@gmai...datetime.datetim...'Merge pull requ...''...\n",
      "\n",
      "'c032666'...'f384cd1 82416fe...'Min RK'...'benjaminrk@gmai...datetime.datetim...'Merge pull requ...''...\n",
      "\n",
      "'f384cd1'...'c9bde54 11bb052...'Vidar Tonaas Fa...'vidartf@gmail.c...datetime.datetim...'Merge pull requ...''...\n",
      "\n",
      "'c9bde54'...'c1a0588 3d4fd8d...'Min RK'...'benjaminrk@gmai...datetime.datetim...'Merge pull requ...''...\n",
      "\n",
      "'c1a0588'...'874e618 cca0999...'Min RK'...'benjaminrk@gmai...datetime.datetim...'Merge pull requ...''...\n",
      "\n",
      "'874e618'...'b691ab5 d569ff4...'Martin Sandve A...'martinal@simula...datetime.datetim...'Merge pull requ...''...\n",
      "\n",
      "'b691ab5'...'fafea8a 1aa270c...'Min RK'...'benjaminrk@gmai...datetime.datetim...'Merge pull requ...''...\n",
      "\n",
      "'fafea8a'...'7e63061 2a39bc3...'Martin Sandve A...'martinal@simula...datetime.datetim...'Merge pull requ...''...\n",
      "\n",
      "'7e63061'...'e7f1a48 f6c2ac5...'Martin Sandve A...'martinal@simula...datetime.datetim...'Merge pull requ...''...\n",
      "\n",
      "'e7f1a48'...'9a4f9f8 f8e29f2...'Min RK'...'benjaminrk@gmai...datetime.datetim...'Merge pull requ...''...\n",
      "\n",
      "'9a4f9f8'...'cd2f57a 143d710...'Min RK'...'benjaminrk@gmai...datetime.datetim...'Merge pull requ...''...\n",
      "\n",
      "'cd2f57a'...'26704cd 488467e...'Martin Sandve A...'martinal@simula...datetime.datetim...'Merge pull requ...''...\n",
      "\n",
      "'26704cd'...'e27869d 9d6f54c...'Min RK'...'benjaminrk@gmai...datetime.datetim...'Merge pull requ...''...\n",
      "\n",
      "'64571fb'...'8a3a8e4 169cf2b...'Martin Sandve A...'martinal@simula...datetime.datetim...'Merge pull requ...''...\n",
      "\n",
      "'1ca93bf'...'0f9e801 13de864...'Min RK'...'benjaminrk@gmai...datetime.datetim...'Merge pull requ...''...\n",
      "\n",
      "'0f9e801'...'52e7f16 7bf3900...'Min RK'...'benjaminrk@gmai...datetime.datetim...'Merge pull requ...''...\n",
      "\n",
      "'52e7f16'...'b796d33 ede5771...'Martin Sandve A...'martinal@simula...datetime.datetim...'Merge pull requ...''...\n",
      "\n",
      "'b796d33'...'0aa75f8 f9211ef...'Vidar Tonaas Fa...'vidartf@gmail.c...datetime.datetim...'Merge pull requ...''...\n",
      "\n",
      "'bc69972'...'f3843ea 0aa75f8...'Martin Sandve A...'martinal@simula...datetime.datetim...\"Merge branch 'm...''...\n",
      "\n",
      "'0aa75f8'...'da9b138 b7164ea...'Martin Sandve A...'martinal@simula...datetime.datetim...'Merge pull requ...''...\n",
      "\n",
      "'da9b138'...'c8ff67e 5e70941...'Min RK'...'benjaminrk@gmai...datetime.datetim...'Merge pull requ...''...\n",
      "\n",
      "'c8ff67e'...'a8dc069 2118d96...'Martin Sandve A...'martinal@simula...datetime.datetim...'Merge pull requ...''...\n",
      "\n",
      "'8247775'...'20bcc2b a8dc069...'Vidar Tonaas Fa...'vidartf@gmail.c...datetime.datetim...\"Merge branch 'm...''...\n",
      "\n",
      "'a8dc069'...'938d0d6 14b59aa...'Carol Willing'...'carolcode@willi...datetime.datetim...'Merge pull requ...''...\n",
      "\n",
      "'938d0d6'...'cb2e3e7 cc02862...'Carol Willing'...'carolcode@willi...datetime.datetim...'Merge pull requ...''...\n",
      "\n",
      "'cb2e3e7'...'a780dfa 4420cbd...'Min RK'...'benjaminrk@gmai...datetime.datetim...'Merge pull requ...''...\n",
      "\n",
      "'a780dfa'...'1d49827 a616bd3...'Carol Willing'...'carolcode@willi...datetime.datetim...'Merge pull requ...''...\n",
      "\n",
      "'1d49827'...'5078eee 3c7553e...'Vidar Tonaas Fa...'vidartf@gmail.c...datetime.datetim...'Merge pull requ...''...\n",
      "\n",
      "'5078eee'...'c375fe4 441a8be...'Martin Sandve A...'martinal@simula...datetime.datetim...'Merge pull requ...''...\n",
      "\n",
      "'c375fe4'...'60bc309 4d88e5b...'Min RK'...'benjaminrk@gmai...datetime.datetim...'Merge pull requ...''...\n",
      "\n",
      "'60bc309'...'6ae471f 8e260e2...'Martin Sandve A...'martinal@simula...datetime.datetim...'Merge pull requ...''...\n",
      "\n",
      "'6ae471f'...'fe4b29a 124246f...'Martin Sandve A...'martinal@simula...datetime.datetim...'Merge pull requ...''...\n",
      "\n",
      "'fe4b29a'...'44ff95e 1e14732...'Martin Sandve A...'martinal@simula...datetime.datetim...'Merge pull requ...''...\n",
      "\n",
      "'44ff95e'...'43f8bcc 9fb94d5...'Min RK'...'benjaminrk@gmai...datetime.datetim...'Merge pull requ...''...\n",
      "\n",
      "'43f8bcc'...'ff7b295 1750a94...'Vidar Tonaas Fa...'vidartf@gmail.c...datetime.datetim...'Merge pull requ...''...\n",
      "\n",
      "'ff7b295'...'b0d57d5 34c6528...'Vidar Tonaas Fa...'vidartf@gmail.c...datetime.datetim...'Merge pull requ...''...\n",
      "\n",
      "'b0d57d5'...'5982dcd 5b0a3ad...'Vidar Tonaas Fa...'vidartf@gmail.c...datetime.datetim...'Merge pull requ...''...\n",
      "\n",
      "'5982dcd'...'2e520e7 dd3ff8b...'Vidar Tonaas Fa...'vidartf@gmail.c...datetime.datetim...'Merge pull requ...''...\n",
      "\n",
      "'2e520e7'...'d188aa0 e07b480...'Min RK'...'benjaminrk@gmai...datetime.datetim...'Merge pull requ...''...\n",
      "\n",
      "'d188aa0'...'0d5a79c 5c074e9...'Min RK'...'benjaminrk@gmai...datetime.datetim...'Merge pull requ...''...\n",
      "\n",
      "'0d5a79c'...'19d7375 8d16d54...'Martin Sandve A...'martinal@simula...datetime.datetim...'Merge pull requ...''...\n",
      "\n",
      "'19d7375'...'40979fa f7aed91...'Martin Sandve A...'martinal@simula...datetime.datetim...'Merge pull requ...''...\n",
      "\n",
      "'40979fa'...'854f22d b9575c2...'Carol Willing'...'carolcode@willi...datetime.datetim...'Merge pull requ...''...\n",
      "\n",
      "'aeeb049'...'ad60f74 854f22d...'Vidar Tonaas Fa...'vidartf@gmail.c...datetime.datetim...\"Merge branch 'm...''...\n",
      "\n",
      "'854f22d'...'5ea5cc1 5710527...'Min RK'...'benjaminrk@gmai...datetime.datetim...'Merge pull requ...''...\n",
      "\n",
      "'5ea5cc1'...'dee5c9a 07ed1e8...'Martin Sandve A...'martinal@simula...datetime.datetim...'Merge pull requ...''...\n",
      "\n",
      "'dee5c9a'...'ac153fc 624ad9f...'Carol Willing'...'carolcode@willi...datetime.datetim...'Merge pull requ...''...\n",
      "\n",
      "'ac153fc'...'8992557 3820591...'Vidar Tonaas Fa...'vidartf@gmail.c...datetime.datetim...'Merge pull requ...''...\n",
      "\n",
      "'7b81637'...'6455178 22a2d90...'Vidar Tonaas Fa...'vidartf@gmail.c...datetime.datetim...'Merge pull requ...''...\n",
      "\n",
      "'6455178'...'806239e f574f0f...'Vidar Tonaas Fa...'vidartf@gmail.c...datetime.datetim...'Merge pull requ...''...\n",
      "\n",
      "'806239e'...'b20f4a1 95f3418...'Martin Sandve A...'martinal@simula...datetime.datetim...'Merge pull requ...''...\n",
      "\n",
      "'b20f4a1'...'9e4688d 794db98...'Martin Sandve A...'martinal@simula...datetime.datetim...'Merge pull requ...''...\n",
      "\n",
      "'9e4688d'...'773a7ba 8fee12e...'Martin Sandve A...'martinal@simula...datetime.datetim...'Merge pull requ...''...\n",
      "\n",
      "'773a7ba'...'8bcf827 d62f826...'Min RK'...'benjaminrk@gmai...datetime.datetim...'Merge pull requ...''...\n",
      "\n",
      "'8bcf827'...'ab3cc94 8e149e1...'Vidar Tonaas Fa...'vidartf@gmail.c...datetime.datetim...'Merge pull requ...''...\n",
      "\n",
      "'ab3cc94'...'cb3f3a9 461e850...'Martin Sandve A...'martinal@simula...datetime.datetim...'Merge pull requ...''...\n",
      "\n",
      "'cb3f3a9'...'2b56e31 0fe5f56...'Martin Sandve A...'martinal@simula...datetime.datetim...'Merge pull requ...''...\n",
      "\n",
      "'2b56e31'...'213d30e 6c89d8a...'Martin Sandve A...'martinal@simula...datetime.datetim...'Merge pull requ...''...\n",
      "\n",
      "'213d30e'...'6140d23 cea73a8...'Martin Sandve A...'martinal@simula...datetime.datetim...'Merge pull requ...''...\n",
      "\n",
      "'6140d23'...'3723b53 22b4a75...'Min RK'...'benjaminrk@gmai...datetime.datetim...'Merge pull requ...''...\n",
      "\n",
      "'3723b53'...'0aa5782 9f09c30...'Min RK'...'benjaminrk@gmai...datetime.datetim...'Merge pull requ...''...\n",
      "\n",
      "'0aa5782'...'753135a 2dabe94...'Martin Sandve A...'martinal@simula...datetime.datetim...'Merge pull requ...''...\n",
      "\n",
      "'753135a'...'f8767b7 da94885...'Martin Sandve A...'martinal@simula...datetime.datetim...'Merge pull requ...''...\n",
      "\n",
      "'f8767b7'...'2fd4a9e 5908bc7...'Vidar Tonaas Fa...'vidartf@gmail.c...datetime.datetim...'Merge pull requ...''...\n",
      "\n",
      "'2fd4a9e'...'48e2c13 f05d07a...'Martin Sandve A...'martinal@simula...datetime.datetim...'Merge pull requ...''...\n",
      "\n",
      "'48e2c13'...'c4df69b 39658f8...'Martin Sandve A...'martinal@simula...datetime.datetim...'Merge pull requ...''...\n",
      "\n",
      "'c4df69b'...'6a04033 114fed8...'Martin Sandve A...'martinal@simula...datetime.datetim...'Merge pull requ...''...\n",
      "\n",
      "'6a04033'...'9f43c3d 8be67b9...'Martin Sandve A...'martinal@simula...datetime.datetim...'Merge pull requ...''...\n",
      "\n",
      "'9f43c3d'...'a5e1f72 e2fc76b...'Martin Sandve A...'martinal@simula...datetime.datetim...'Merge pull requ...''...\n",
      "\n",
      "'e2fc76b'...'ce1f7a5 a5e1f72...'Vidar Tonaas Fa...'vidartf@gmail.c...datetime.datetim...\"Merge branch 'm...''...\n",
      "\n",
      "'a5e1f72'...'43eca25 176c52d...'Martin Sandve A...'martinal@simula...datetime.datetim...'Merge pull requ...''...\n",
      "\n",
      "'43eca25'...'c21cab3 32e44e8...'Martin Sandve A...'martinal@simula...datetime.datetim...'Merge pull requ...''...\n",
      "\n",
      "'c21cab3'...'35b7608 f764cc3...'Martin Sandve A...'martinal@simula...datetime.datetim...'Merge pull requ...''...\n",
      "\n",
      "'35b7608'...'db46402 22e6245...'Vidar Tonaas Fa...'vidartf@gmail.c...datetime.datetim...'Merge pull requ...''...\n",
      "\n",
      "'db46402'...'8792ab4 0494548...'Martin Sandve A...'martinal@simula...datetime.datetim...'Merge pull requ...''...\n",
      "\n",
      "'8792ab4'...'e93a97f 1f47ad4...'Martin Sandve A...'martinal@simula...datetime.datetim...'Merge pull requ...''...\n",
      "\n",
      "'e93a97f'...'e3e5f44 1cf12b9...'Martin Sandve A...'martinal@simula...datetime.datetim...'Merge pull requ...''...\n",
      "\n",
      "'e3e5f44'...'39f146f 7acc1ed...'Vidar Tonaas Fa...'vidartf@gmail.c...datetime.datetim...'Merge pull requ...''...\n",
      "\n",
      "'39f146f'...'f6884b0 973abd4...'Martin Sandve A...'martinal@simula...datetime.datetim...'Merge pull requ...''...\n",
      "\n",
      "'f6884b0'...'a57e4e3 e5a7e99...'Vidar Tonaas Fa...'vidartf@gmail.c...datetime.datetim...'Merge pull requ...''...\n",
      "\n",
      "'f1a348e'...'31e286d f173c75...'Vidar Tonaas Fa...'vidartf@gmail.c...datetime.datetim...'Merge pull requ...''...\n",
      "\n",
      "'31e286d'...'acc356a 47d47c5...'Martin Sandve A...'martinal@simula...datetime.datetim...'Merge pull requ...''...\n",
      "\n",
      "'acc356a'...'481b2cd 4a82e4b...'Martin Sandve A...'martinal@simula...datetime.datetim...'Merge pull requ...''...\n",
      "\n",
      "'481b2cd'...'14ed831 cd5bb48...'Min RK'...'benjaminrk@gmai...datetime.datetim...'Merge pull requ...''...\n",
      "\n",
      "'14ed831'...'5a6ba9b bdb52f9...'Martin Sandve A...'martinal@simula...datetime.datetim...'Merge pull requ...''...\n",
      "\n",
      "'5a6ba9b'...'e4af609 4df994c...'Vidar Tonaas Fa...'vidartf@gmail.c...datetime.datetim...'Merge pull requ...''...\n",
      "\n",
      "'e4af609'...'4e03e16 ca9b913...'Martin Sandve A...'martinal@simula...datetime.datetim...'Merge pull requ...''...\n",
      "\n",
      "'4e03e16'...'c9ffa9c 8f22f4f...'Martin Sandve A...'martinal@simula...datetime.datetim...'Merge pull requ...''...\n",
      "\n",
      "'c9ffa9c'...'4136c51 4f0d1db...'Martin Sandve A...'martinal@simula...datetime.datetim...'Merge pull requ...''...\n",
      "\n",
      "'4136c51'...'da17b37 6806b3c...'Martin Sandve A...'martinal@simula...datetime.datetim...'Merge pull requ...''...\n",
      "\n",
      "'da17b37'...'8501759 c211091...'Martin Sandve A...'martinal@simula...datetime.datetim...'Merge pull requ...''...\n",
      "\n",
      "'8501759'...'48e865b e71bfee...'Martin Sandve A...'martinal@simula...datetime.datetim...'Merge pull requ...''...\n",
      "\n",
      "'48e865b'...'b9eca71 6586f20...'Martin Sandve A...'martinal@simula...datetime.datetim...'Merge pull requ...''...\n",
      "\n",
      "'b9eca71'...'89974ba d0954fa...'Min RK'...'benjaminrk@gmai...datetime.datetim...'Merge pull requ...''...\n",
      "\n",
      "'89974ba'...'618b233 d956efd...'Vidar Tonaas Fa...'vidartf@gmail.c...datetime.datetim...'Merge pull requ...''...\n",
      "\n",
      "'2bed9bb'...'9824304 e40a88b...'Martin Sandve A...'martinal@simula...datetime.datetim...'Merge pull requ...''...\n",
      "\n",
      "'9824304'...'88acecf dc14211...'Martin Sandve A...'martinal@simula...datetime.datetim...'Merge pull requ...''...\n",
      "\n",
      "'88acecf'...'fe87b7a 4fe2a23...'Martin Sandve A...'martinal@simula...datetime.datetim...'Merge pull requ...''...\n",
      "\n",
      "'fe87b7a'...'ce4583a cb5275c...'Martin Sandve A...'martinal@simula...datetime.datetim...'Merge pull requ...''...\n",
      "\n",
      "'ce4583a'...'b94db84 fe72eb4...'Martin Sandve A...'martinal@simula...datetime.datetim...'Merge pull requ...''...\n",
      "\n",
      "'b94db84'...'d24fe80 4b4c358...'Martin Sandve A...'martinal@simula...datetime.datetim...'Merge pull requ...''...\n",
      "\n",
      "'d24fe80'...'4e75c5a bd14f06...'Martin Sandve A...'martinal@simula...datetime.datetim...'Merge pull requ...''...\n",
      "\n",
      "'4e75c5a'...'90ede10 41a95d2...'Min RK'...'benjaminrk@gmai...datetime.datetim...'Merge pull requ...''...\n",
      "\n",
      "'90ede10'...'b6b9876 bcd6141...'Min RK'...'benjaminrk@gmai...datetime.datetim...'Merge pull requ...''...\n",
      "\n",
      "'b6b9876'...'767c7c2 32bafb5...'Martin Sandve A...'martinal@simula...datetime.datetim...'Merge pull requ...''...\n",
      "\n",
      "'767c7c2'...'84bb398 c4a5cc0...'Martin Sandve A...'martinal@simula...datetime.datetim...'Merge pull requ...''...\n",
      "\n",
      "'84bb398'...'37a15fe 9033e8a...'Min RK'...'benjaminrk@gmai...datetime.datetim...'Merge pull requ...''...\n",
      "\n",
      "'37a15fe'...'ed9023a 2935e8b...'Min RK'...'benjaminrk@gmai...datetime.datetim...'Merge pull requ...''...\n",
      "\n",
      "'b3343f9'...'8ff220d 845c477...'Min RK'...'benjaminrk@gmai...datetime.datetim...'Merge pull requ...''...\n",
      "\n",
      "'e387105'...'55adbce a8650be...'Min RK'...'benjaminrk@gmai...datetime.datetim...'Merge pull requ...''...\n",
      "\n",
      "'55adbce'...'633fe82 15c6740...'Min RK'...'benjaminrk@gmai...datetime.datetim...'Merge pull requ...''...\n",
      "\n",
      "'633fe82'...'d1952dc 754f57b...'Min RK'...'benjaminrk@gmai...datetime.datetim...'Merge pull requ...''...\n",
      "\n",
      "'d1952dc'...'6691bfc 7e4d860...'Min RK'...'benjaminrk@gmai...datetime.datetim...'Merge pull requ...''...\n",
      "\n",
      "'6691bfc'...'0d57ff7 9c6830a...'Min RK'...'benjaminrk@gmai...datetime.datetim...'Merge pull requ...''...\n",
      "\n",
      "'a8fce37'...'3fd06d8 d390fef...'Min RK'...'benjaminrk@gmai...datetime.datetim...'Merge pull requ...''...\n",
      "\n",
      "'0d9469d'...'312418e 8662fe3...'Min RK'...'benjaminrk@gmai...datetime.datetim...'Merge pull requ...''...\n",
      "\n",
      "'312418e'...'5044f27 18814a6...'Min RK'...'benjaminrk@gmai...datetime.datetim...'Merge pull requ...''...\n",
      "\n",
      "'5044f27'...'7fcd5b2 fecb37f...'Min RK'...'benjaminrk@gmai...datetime.datetim...'Merge pull requ...''...\n",
      "\n",
      "'015483b'...'dcd6c22 038689b...'Vidar Tonaas Fa...'vidartf@gmail.c...datetime.datetim...\"Merge remote-tr...''...\n",
      "\n",
      "'b91fc89'...'9473ab1 7fcd5b2...'Vidar Tonaas Fa...'vidartf@gmail.c...datetime.datetim...\"Merge remote-tr...''...\n",
      "\n",
      "'7fcd5b2'...'a3504cb d3694eb...'Min RK'...'benjaminrk@gmai...datetime.datetim...'Merge pull requ...''...\n",
      "\n",
      "'a3504cb'...'b363220 fde642d...'Min RK'...'benjaminrk@gmai...datetime.datetim...'Merge pull requ...''...\n",
      "\n",
      "'b363220'...'614882b f6f80ac...'Min RK'...'benjaminrk@gmai...datetime.datetim...'Merge pull requ...''...\n",
      "\n",
      "'614882b'...'2e6aba7 1b0320c...'Min RK'...'benjaminrk@gmai...datetime.datetim...'Merge pull requ...''...\n",
      "\n",
      "'2e6aba7'...'9a2d724 d54c67f...'Min RK'...'benjaminrk@gmai...datetime.datetim...'Merge pull requ...''...\n",
      "\n",
      "'cc31347'...'a0303a4 ebd3f33...'Min RK'...'benjaminrk@gmai...datetime.datetim...'Merge pull requ...''...\n",
      "\n",
      "'a0303a4'...'912ee20 3fefdc8...'Min RK'...'benjaminrk@gmai...datetime.datetim...'Merge pull requ...''...\n",
      "\n",
      "'912ee20'...'f173d83 d5312de...'Carol Willing'...'carolcode@willi...datetime.datetim...'Merge pull requ...''...\n",
      "\n",
      "'f173d83'...'d15e6fd 8e67844...'Martin Sandve A...'martinal@simula...datetime.datetim...'Merge pull requ...''...\n",
      "\n",
      "'d15e6fd'...'cc37433 149ddce...'Min RK'...'benjaminrk@gmai...datetime.datetim...'Merge pull requ...''...\n",
      "\n",
      "'bc2bbfc'...'715eb15 f14e094...'Min RK'...'benjaminrk@gmai...datetime.datetim...'Merge pull requ...''...\n",
      "\n",
      "'6660a4a'...'72fc51f d60af42...'Martin Sandve A...'martinal@simula...datetime.datetim...'Merge pull requ...''...\n",
      "\n",
      "'72fc51f'...'fbcb81f dc2407b...'Min RK'...'benjaminrk@gmai...datetime.datetim...'Merge pull requ...''...\n",
      "\n",
      "'fbcb81f'...'5af7f14 0a8e244...'Martin Sandve A...'martinal@simula...datetime.datetim...'Merge pull requ...''...\n",
      "\n",
      "'5af7f14'...'24a29c2 f95b939...'Martin Sandve A...'martinal@simula...datetime.datetim...'Merge pull requ...''...\n",
      "\n",
      "'24a29c2'...'c261edd 88f0961...'Martin Sandve A...'martinal@simula...datetime.datetim...'Merge pull requ...''...\n",
      "\n",
      "'c261edd'...'d20e604 7164a48...'Martin Sandve A...'martinal@simula...datetime.datetim...'Merge pull requ...''...\n",
      "\n",
      "'d20e604'...'91318f6 1333a20...'Martin Sandve A...'martinal@simula...datetime.datetim...'Merge pull requ...''...\n",
      "\n",
      "'91318f6'...'dc6604c 32ec755...'Martin Sandve A...'martinal@simula...datetime.datetim...'Merge pull requ...''...\n",
      "\n",
      "'dc6604c'...'7ae62b8 0d9e8ce...'Min RK'...'benjaminrk@gmai...datetime.datetim...'Merge pull requ...''...\n",
      "\n",
      "'f87fb2e'...''...'Martin Sandve A...'martinal@simula...datetime.datetim...'Initial commit,...'CONTRIBUTING.md...\n",
      "\n"
     ]
    }
   ],
   "source": [
    "# YOUR CODE HERE\n",
    "for i in range(len(cols_name)):\n",
    "    print(f'{cols_name[i]:19}', end=\"\")\n",
    "print('\\n')\n",
    "for i in range(len(cols[cols_name[0]])):\n",
    "    temp = [cols[x][i] for x in cols_name]\n",
    "    if '' in temp:\n",
    "        for j in range(len(temp)):\n",
    "            print(f'{temp[j].__repr__()[:16]+\"...\":<}', end=\"\")\n",
    "        print('\\n')\n",
    "    \n",
    "        "
   ]
  },
  {
   "cell_type": "markdown",
   "id": "2826f4c7",
   "metadata": {
    "deletable": false,
    "id": "2826f4c7",
    "nbgrader": {
     "cell_type": "markdown",
     "checksum": "0f5fa9e719dcc6a28b1a0ad666d3c0a9",
     "grade": true,
     "grade_id": "cell-0ce04cd6c1dd7a31",
     "locked": false,
     "points": 0.25,
     "schema_version": 3,
     "solution": true,
     "task": false
    }
   },
   "source": [
    "Đa số các dòng thiếu dữ liệu đều thiếu ở cột 'ChangedFiles' và  nguyên nhân chính là do dữ liệu ở cột 'Subject' là 'Merge pull request'.\n",
    "Ngoài ra còn có 1 số dòng như là commit đầu tiên của project nên không làm ảnh hưởng tới file dữ liệu, nên không xuất hiện ở cột 'ChangedFiles'"
   ]
  },
  {
   "cell_type": "markdown",
   "id": "7fb6df75",
   "metadata": {
    "id": "7fb6df75"
   },
   "source": [
    "---"
   ]
  },
  {
   "cell_type": "markdown",
   "id": "af20a067",
   "metadata": {
    "id": "af20a067"
   },
   "source": [
    "## Đưa ra câu hỏi có ý nghĩa cần trả lời"
   ]
  },
  {
   "cell_type": "markdown",
   "id": "6d1383e9",
   "metadata": {
    "id": "6d1383e9"
   },
   "source": [
    "Sau khi khám phá dữ liệu, ta đã hiểu hơn về dữ liệu. Bây giờ, ta hãy xem thử có câu hỏi nào có ý nghĩa mà có thể được trả lời bằng dữ liệu này không.\n",
    "\n",
    "Các câu hỏi có thể có là: \n",
    "- *Câu hỏi 1: trong năm 2021, ai là người có nhiều commit nhất, ai là người có nhiều commit nhì, ...?* \\\n",
    "Tìm câu trả lời cho câu hỏi này để làm gì? \\\n",
    "Hmm ... Chẳng hạn để khen thưởng\n",
    "- *Câu hỏi 2: commit nào là commit cuối cùng (xét trên \"AuthorDate\") đã thay đổi file \"nbdime/webapp/templates/difftool.html\"?* \\\n",
    "Tìm câu trả lời cho câu hỏi này để làm gì? \\\n",
    "Hmm ... Chẳng hạn để đổ tội cho tác giả của commit đó ;-)"
   ]
  },
  {
   "cell_type": "markdown",
   "id": "2b8d3d6a",
   "metadata": {
    "id": "2b8d3d6a"
   },
   "source": [
    "---"
   ]
  },
  {
   "cell_type": "markdown",
   "id": "0071c835",
   "metadata": {
    "id": "0071c835"
   },
   "source": [
    "## Tiền xử lý (nếu cần) + phân tích dữ liệu để trả lời cho câu hỏi 1 (1đ)"
   ]
  },
  {
   "cell_type": "markdown",
   "id": "408c3c24",
   "metadata": {
    "id": "408c3c24"
   },
   "source": [
    "Nhắc lại câu hỏi 1: *trong năm 2021, ai là người có nhiều commit nhất, ai là người có nhiều commit nhì, ...?*\n",
    "\n",
    "Bạn sẽ lưu kết quả vào biến `wanted_people`. Biến này là một dictionary, mỗi phần tử ứng với một người mà có commit trong năm 2021, key là tên của người đó, value là số lượng commit của người đó. Dictionary này được sort theo value giảm dần."
   ]
  },
  {
   "cell_type": "code",
   "execution_count": 19,
   "id": "937386a9",
   "metadata": {
    "deletable": false,
    "id": "937386a9",
    "nbgrader": {
     "cell_type": "code",
     "checksum": "164597dfc4cff18b22014680c9345b6e",
     "grade": false,
     "grade_id": "cell-a40eed2ac02f6c2b",
     "locked": false,
     "schema_version": 3,
     "solution": true,
     "task": false
    }
   },
   "outputs": [],
   "source": [
    "# YOUR CODE HERE\n",
    "wanted_people = dict()\n",
    "for i in range(len(cols[cols_name[0]])): \n",
    "    name = cols['AuthorName'][i]\n",
    "    if cols['AuthorDate'][i].year == 2021:\n",
    "        wanted_people[name] = wanted_people.get(name, 0) + 1\n",
    "wanted_people = dict(sorted(wanted_people.items(), key = lambda kv:kv[1], reverse=True))\n",
    "\n",
    "\n"
   ]
  },
  {
   "cell_type": "code",
   "execution_count": null,
   "id": "93459f36",
   "metadata": {
    "deletable": false,
    "editable": false,
    "id": "93459f36",
    "nbgrader": {
     "cell_type": "code",
     "checksum": "a7294256d2ff774d1305360568b58d73",
     "grade": true,
     "grade_id": "cell-9e312d16b92a0e40",
     "locked": true,
     "points": 1,
     "schema_version": 3,
     "solution": false,
     "task": false
    }
   },
   "outputs": [],
   "source": [
    "# TEST\n",
    "correct_wanted_people = {'Vidar Tonaas Fauske': 26, \n",
    "                         'Alex Bozarth': 9, \n",
    "                         'Frederic COLLONVAL': 7, \n",
    "                         'Frédéric Collonval': 6, \n",
    "                         'krassowski': 2, \n",
    "                         'Michał Krassowski': 2}\n",
    "assert wanted_people == correct_wanted_people"
   ]
  },
  {
   "cell_type": "markdown",
   "id": "331e0d37",
   "metadata": {
    "id": "331e0d37"
   },
   "source": [
    "---"
   ]
  },
  {
   "cell_type": "markdown",
   "id": "e34f11a1",
   "metadata": {
    "id": "e34f11a1"
   },
   "source": [
    "## Tiền xử lý (nếu cần) + phân tích dữ liệu để trả lời cho câu hỏi 2 (2đ)"
   ]
  },
  {
   "cell_type": "markdown",
   "id": "da4781dc",
   "metadata": {
    "id": "da4781dc"
   },
   "source": [
    "Nhắc lại câu hỏi 2: *commit nào là commit cuối cùng (xét trên \"AuthorDate\") đã thay đổi file \"nbdime/webapp/templates/difftool.html\"?*\n",
    "\n",
    "Ta thống nhất: không xét các commit \"merge pull request\" vì các commit này không có thông tin về \"ChangedFiles\".\n",
    "\n",
    "Bạn lưu kết quả vào biến `wanted_commit`. Biến này là một dictionary, trong đó mỗi phần tử ứng với một thông tin của commit, key là tên cột, value là giá trị tương ứng."
   ]
  },
  {
   "cell_type": "code",
   "execution_count": 20,
   "id": "c329cf22",
   "metadata": {
    "deletable": false,
    "id": "c329cf22",
    "nbgrader": {
     "cell_type": "code",
     "checksum": "e6cbf3fcba915f428f1ac9b6f208e6ef",
     "grade": false,
     "grade_id": "cell-37a6a90f597ad4a1",
     "locked": false,
     "schema_version": 3,
     "solution": true,
     "task": false
    }
   },
   "outputs": [],
   "source": [
    "# YOUR CODE HERE\n",
    "wanted_list = []\n",
    "for i in range(len(cols[cols_name[0]])):\n",
    "    changed_files = cols['ChangedFiles'][i].split(',')\n",
    "    if len(changed_files)!=0 and 'nbdime/webapp/templates/difftool.html' in changed_files:\n",
    "        wanted_list.append({attr:val[i] for (attr, val) in cols.items() })\n",
    "wanted_list.sort(reverse=True, key=lambda x:x['AuthorDate'])\n",
    "wanted_commit = wanted_list[0]"
   ]
  },
  {
   "cell_type": "code",
   "execution_count": null,
   "id": "777ead1c",
   "metadata": {
    "deletable": false,
    "editable": false,
    "id": "777ead1c",
    "nbgrader": {
     "cell_type": "code",
     "checksum": "916a7ddb9a0120cadf1501a14a675d3e",
     "grade": true,
     "grade_id": "cell-41c49732faf571f7",
     "locked": true,
     "points": 2,
     "schema_version": 3,
     "solution": false,
     "task": false
    }
   },
   "outputs": [],
   "source": [
    "# TEST\n",
    "correct_wanted_commit = {\\\n",
    "    'Id': 'be0b5ee',\n",
    "    'ParentIds': '4226179',\n",
    "    'AuthorName': 'Vidar Tonaas Fauske',\n",
    "    'AuthorEmail': 'vidartf@gmail.com',\n",
    "    'AuthorDate': datetime.datetime(2017, 7, 4, 22, 53, 9, tzinfo=datetime.timezone(datetime.timedelta(seconds=7200))),\n",
    "    'Subject': 'jinja2 templates + avoid name collisions with nb',\n",
    "    'ChangedFiles': 'nbdime/webapp/nbdimeserver.py,nbdime/webapp/templates/compare.html,nbdime/webapp/templates/diff.html,nbdime/webapp/templates/difftool.html,nbdime/webapp/templates/merge.html,nbdime/webapp/templates/mergetool.html,nbdime/webapp/templates/nbdimepage.html,setup.py'\\\n",
    "}\n",
    "assert wanted_commit == correct_wanted_commit"
   ]
  }
 ],
 "metadata": {
  "colab": {
   "name": "HW1.ipynb",
   "provenance": []
  },
  "kernelspec": {
   "display_name": "Python 3 (ipykernel)",
   "language": "python",
   "name": "python3"
  },
  "language_info": {
   "codemirror_mode": {
    "name": "ipython",
    "version": 3
   },
   "file_extension": ".py",
   "mimetype": "text/x-python",
   "name": "python",
   "nbconvert_exporter": "python",
   "pygments_lexer": "ipython3",
   "version": "3.8.8"
  },
  "toc": {
   "base_numbering": 1,
   "nav_menu": {},
   "number_sections": false,
   "sideBar": true,
   "skip_h1_title": true,
   "title_cell": "Table of Contents",
   "title_sidebar": "Contents",
   "toc_cell": false,
   "toc_position": {
    "height": "calc(100% - 180px)",
    "left": "10px",
    "top": "150px",
    "width": "165px"
   },
   "toc_section_display": true,
   "toc_window_display": true
  }
 },
 "nbformat": 4,
 "nbformat_minor": 5
}
